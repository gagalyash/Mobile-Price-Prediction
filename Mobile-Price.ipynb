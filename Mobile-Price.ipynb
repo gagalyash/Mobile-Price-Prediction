{
 "cells": [
  {
   "cell_type": "markdown",
   "id": "8141e6a8",
   "metadata": {},
   "source": [
    "## Necessary Library"
   ]
  },
  {
   "cell_type": "code",
   "execution_count": 1,
   "id": "8a2aab20",
   "metadata": {},
   "outputs": [],
   "source": [
    "import pandas as pd\n",
    "import numpy as np\n",
    "import seaborn as sns\n",
    "import matplotlib.pyplot as plt\n",
    "from sklearn.model_selection import train_test_split\n",
    "from sklearn.ensemble import RandomForestClassifier\n",
    "from sklearn.metrics import accuracy_score\n",
    "from sklearn.metrics import mean_squared_error\n",
    "from sklearn.metrics import mean_absolute_error\n",
    "from sklearn.metrics import confusion_matrix\n",
    "from sklearn.metrics import classification_report"
   ]
  },
  {
   "cell_type": "code",
   "execution_count": 2,
   "id": "93d0a3ce",
   "metadata": {},
   "outputs": [],
   "source": [
    "# read csv from pandas\n",
    "dataframe = pd.read_csv('train.csv')"
   ]
  },
  {
   "cell_type": "code",
   "execution_count": 3,
   "id": "5a518ae0",
   "metadata": {},
   "outputs": [
    {
     "data": {
      "text/html": [
       "<div>\n",
       "<style scoped>\n",
       "    .dataframe tbody tr th:only-of-type {\n",
       "        vertical-align: middle;\n",
       "    }\n",
       "\n",
       "    .dataframe tbody tr th {\n",
       "        vertical-align: top;\n",
       "    }\n",
       "\n",
       "    .dataframe thead th {\n",
       "        text-align: right;\n",
       "    }\n",
       "</style>\n",
       "<table border=\"1\" class=\"dataframe\">\n",
       "  <thead>\n",
       "    <tr style=\"text-align: right;\">\n",
       "      <th></th>\n",
       "      <th>battery_power</th>\n",
       "      <th>blue</th>\n",
       "      <th>clock_speed</th>\n",
       "      <th>dual_sim</th>\n",
       "      <th>fc</th>\n",
       "      <th>four_g</th>\n",
       "      <th>int_memory</th>\n",
       "      <th>m_dep</th>\n",
       "      <th>mobile_wt</th>\n",
       "      <th>n_cores</th>\n",
       "      <th>...</th>\n",
       "      <th>px_height</th>\n",
       "      <th>px_width</th>\n",
       "      <th>ram</th>\n",
       "      <th>sc_h</th>\n",
       "      <th>sc_w</th>\n",
       "      <th>talk_time</th>\n",
       "      <th>three_g</th>\n",
       "      <th>touch_screen</th>\n",
       "      <th>wifi</th>\n",
       "      <th>price_range</th>\n",
       "    </tr>\n",
       "  </thead>\n",
       "  <tbody>\n",
       "    <tr>\n",
       "      <th>0</th>\n",
       "      <td>842</td>\n",
       "      <td>0</td>\n",
       "      <td>2.2</td>\n",
       "      <td>0</td>\n",
       "      <td>1</td>\n",
       "      <td>0</td>\n",
       "      <td>7</td>\n",
       "      <td>0.6</td>\n",
       "      <td>188</td>\n",
       "      <td>2</td>\n",
       "      <td>...</td>\n",
       "      <td>20</td>\n",
       "      <td>756</td>\n",
       "      <td>2549</td>\n",
       "      <td>9</td>\n",
       "      <td>7</td>\n",
       "      <td>19</td>\n",
       "      <td>0</td>\n",
       "      <td>0</td>\n",
       "      <td>1</td>\n",
       "      <td>1</td>\n",
       "    </tr>\n",
       "    <tr>\n",
       "      <th>1</th>\n",
       "      <td>1021</td>\n",
       "      <td>1</td>\n",
       "      <td>0.5</td>\n",
       "      <td>1</td>\n",
       "      <td>0</td>\n",
       "      <td>1</td>\n",
       "      <td>53</td>\n",
       "      <td>0.7</td>\n",
       "      <td>136</td>\n",
       "      <td>3</td>\n",
       "      <td>...</td>\n",
       "      <td>905</td>\n",
       "      <td>1988</td>\n",
       "      <td>2631</td>\n",
       "      <td>17</td>\n",
       "      <td>3</td>\n",
       "      <td>7</td>\n",
       "      <td>1</td>\n",
       "      <td>1</td>\n",
       "      <td>0</td>\n",
       "      <td>2</td>\n",
       "    </tr>\n",
       "    <tr>\n",
       "      <th>2</th>\n",
       "      <td>563</td>\n",
       "      <td>1</td>\n",
       "      <td>0.5</td>\n",
       "      <td>1</td>\n",
       "      <td>2</td>\n",
       "      <td>1</td>\n",
       "      <td>41</td>\n",
       "      <td>0.9</td>\n",
       "      <td>145</td>\n",
       "      <td>5</td>\n",
       "      <td>...</td>\n",
       "      <td>1263</td>\n",
       "      <td>1716</td>\n",
       "      <td>2603</td>\n",
       "      <td>11</td>\n",
       "      <td>2</td>\n",
       "      <td>9</td>\n",
       "      <td>1</td>\n",
       "      <td>1</td>\n",
       "      <td>0</td>\n",
       "      <td>2</td>\n",
       "    </tr>\n",
       "    <tr>\n",
       "      <th>3</th>\n",
       "      <td>615</td>\n",
       "      <td>1</td>\n",
       "      <td>2.5</td>\n",
       "      <td>0</td>\n",
       "      <td>0</td>\n",
       "      <td>0</td>\n",
       "      <td>10</td>\n",
       "      <td>0.8</td>\n",
       "      <td>131</td>\n",
       "      <td>6</td>\n",
       "      <td>...</td>\n",
       "      <td>1216</td>\n",
       "      <td>1786</td>\n",
       "      <td>2769</td>\n",
       "      <td>16</td>\n",
       "      <td>8</td>\n",
       "      <td>11</td>\n",
       "      <td>1</td>\n",
       "      <td>0</td>\n",
       "      <td>0</td>\n",
       "      <td>2</td>\n",
       "    </tr>\n",
       "    <tr>\n",
       "      <th>4</th>\n",
       "      <td>1821</td>\n",
       "      <td>1</td>\n",
       "      <td>1.2</td>\n",
       "      <td>0</td>\n",
       "      <td>13</td>\n",
       "      <td>1</td>\n",
       "      <td>44</td>\n",
       "      <td>0.6</td>\n",
       "      <td>141</td>\n",
       "      <td>2</td>\n",
       "      <td>...</td>\n",
       "      <td>1208</td>\n",
       "      <td>1212</td>\n",
       "      <td>1411</td>\n",
       "      <td>8</td>\n",
       "      <td>2</td>\n",
       "      <td>15</td>\n",
       "      <td>1</td>\n",
       "      <td>1</td>\n",
       "      <td>0</td>\n",
       "      <td>1</td>\n",
       "    </tr>\n",
       "  </tbody>\n",
       "</table>\n",
       "<p>5 rows × 21 columns</p>\n",
       "</div>"
      ],
      "text/plain": [
       "   battery_power  blue  clock_speed  dual_sim  fc  four_g  int_memory  m_dep  \\\n",
       "0            842     0          2.2         0   1       0           7    0.6   \n",
       "1           1021     1          0.5         1   0       1          53    0.7   \n",
       "2            563     1          0.5         1   2       1          41    0.9   \n",
       "3            615     1          2.5         0   0       0          10    0.8   \n",
       "4           1821     1          1.2         0  13       1          44    0.6   \n",
       "\n",
       "   mobile_wt  n_cores  ...  px_height  px_width   ram  sc_h  sc_w  talk_time  \\\n",
       "0        188        2  ...         20       756  2549     9     7         19   \n",
       "1        136        3  ...        905      1988  2631    17     3          7   \n",
       "2        145        5  ...       1263      1716  2603    11     2          9   \n",
       "3        131        6  ...       1216      1786  2769    16     8         11   \n",
       "4        141        2  ...       1208      1212  1411     8     2         15   \n",
       "\n",
       "   three_g  touch_screen  wifi  price_range  \n",
       "0        0             0     1            1  \n",
       "1        1             1     0            2  \n",
       "2        1             1     0            2  \n",
       "3        1             0     0            2  \n",
       "4        1             1     0            1  \n",
       "\n",
       "[5 rows x 21 columns]"
      ]
     },
     "execution_count": 3,
     "metadata": {},
     "output_type": "execute_result"
    }
   ],
   "source": [
    "# print the first five rows\n",
    "dataframe.head()"
   ]
  },
  {
   "cell_type": "code",
   "execution_count": 4,
   "id": "866dcfb8",
   "metadata": {},
   "outputs": [
    {
     "data": {
      "text/plain": [
       "(2000, 21)"
      ]
     },
     "execution_count": 4,
     "metadata": {},
     "output_type": "execute_result"
    }
   ],
   "source": [
    "# checks the shape of dataframe\n",
    "dataframe.shape"
   ]
  },
  {
   "cell_type": "code",
   "execution_count": 5,
   "id": "3fbf8751",
   "metadata": {},
   "outputs": [
    {
     "data": {
      "text/plain": [
       "battery_power      int64\n",
       "blue               int64\n",
       "clock_speed      float64\n",
       "dual_sim           int64\n",
       "fc                 int64\n",
       "four_g             int64\n",
       "int_memory         int64\n",
       "m_dep            float64\n",
       "mobile_wt          int64\n",
       "n_cores            int64\n",
       "pc                 int64\n",
       "px_height          int64\n",
       "px_width           int64\n",
       "ram                int64\n",
       "sc_h               int64\n",
       "sc_w               int64\n",
       "talk_time          int64\n",
       "three_g            int64\n",
       "touch_screen       int64\n",
       "wifi               int64\n",
       "price_range        int64\n",
       "dtype: object"
      ]
     },
     "execution_count": 5,
     "metadata": {},
     "output_type": "execute_result"
    }
   ],
   "source": [
    "# checks the datatypes of columns\n",
    "dataframe.dtypes"
   ]
  },
  {
   "cell_type": "code",
   "execution_count": 6,
   "id": "2bb454a9",
   "metadata": {},
   "outputs": [
    {
     "name": "stdout",
     "output_type": "stream",
     "text": [
      "<class 'pandas.core.frame.DataFrame'>\n",
      "RangeIndex: 2000 entries, 0 to 1999\n",
      "Data columns (total 21 columns):\n",
      " #   Column         Non-Null Count  Dtype  \n",
      "---  ------         --------------  -----  \n",
      " 0   battery_power  2000 non-null   int64  \n",
      " 1   blue           2000 non-null   int64  \n",
      " 2   clock_speed    2000 non-null   float64\n",
      " 3   dual_sim       2000 non-null   int64  \n",
      " 4   fc             2000 non-null   int64  \n",
      " 5   four_g         2000 non-null   int64  \n",
      " 6   int_memory     2000 non-null   int64  \n",
      " 7   m_dep          2000 non-null   float64\n",
      " 8   mobile_wt      2000 non-null   int64  \n",
      " 9   n_cores        2000 non-null   int64  \n",
      " 10  pc             2000 non-null   int64  \n",
      " 11  px_height      2000 non-null   int64  \n",
      " 12  px_width       2000 non-null   int64  \n",
      " 13  ram            2000 non-null   int64  \n",
      " 14  sc_h           2000 non-null   int64  \n",
      " 15  sc_w           2000 non-null   int64  \n",
      " 16  talk_time      2000 non-null   int64  \n",
      " 17  three_g        2000 non-null   int64  \n",
      " 18  touch_screen   2000 non-null   int64  \n",
      " 19  wifi           2000 non-null   int64  \n",
      " 20  price_range    2000 non-null   int64  \n",
      "dtypes: float64(2), int64(19)\n",
      "memory usage: 328.2 KB\n"
     ]
    }
   ],
   "source": [
    "# gives the information about dataframe\n",
    "dataframe.info()"
   ]
  },
  {
   "cell_type": "code",
   "execution_count": 7,
   "id": "341a4ea0",
   "metadata": {},
   "outputs": [
    {
     "data": {
      "text/plain": [
       "battery_power    0\n",
       "blue             0\n",
       "clock_speed      0\n",
       "dual_sim         0\n",
       "fc               0\n",
       "four_g           0\n",
       "int_memory       0\n",
       "m_dep            0\n",
       "mobile_wt        0\n",
       "n_cores          0\n",
       "pc               0\n",
       "px_height        0\n",
       "px_width         0\n",
       "ram              0\n",
       "sc_h             0\n",
       "sc_w             0\n",
       "talk_time        0\n",
       "three_g          0\n",
       "touch_screen     0\n",
       "wifi             0\n",
       "price_range      0\n",
       "dtype: int64"
      ]
     },
     "execution_count": 7,
     "metadata": {},
     "output_type": "execute_result"
    }
   ],
   "source": [
    "# checks the null values in dataframe\n",
    "dataframe.isnull().sum()"
   ]
  },
  {
   "cell_type": "code",
   "execution_count": 8,
   "id": "a30481e7",
   "metadata": {},
   "outputs": [
    {
     "data": {
      "text/html": [
       "<div>\n",
       "<style scoped>\n",
       "    .dataframe tbody tr th:only-of-type {\n",
       "        vertical-align: middle;\n",
       "    }\n",
       "\n",
       "    .dataframe tbody tr th {\n",
       "        vertical-align: top;\n",
       "    }\n",
       "\n",
       "    .dataframe thead th {\n",
       "        text-align: right;\n",
       "    }\n",
       "</style>\n",
       "<table border=\"1\" class=\"dataframe\">\n",
       "  <thead>\n",
       "    <tr style=\"text-align: right;\">\n",
       "      <th></th>\n",
       "      <th>battery_power</th>\n",
       "      <th>blue</th>\n",
       "      <th>clock_speed</th>\n",
       "      <th>dual_sim</th>\n",
       "      <th>fc</th>\n",
       "      <th>four_g</th>\n",
       "      <th>int_memory</th>\n",
       "      <th>m_dep</th>\n",
       "      <th>mobile_wt</th>\n",
       "      <th>n_cores</th>\n",
       "      <th>...</th>\n",
       "      <th>px_height</th>\n",
       "      <th>px_width</th>\n",
       "      <th>ram</th>\n",
       "      <th>sc_h</th>\n",
       "      <th>sc_w</th>\n",
       "      <th>talk_time</th>\n",
       "      <th>three_g</th>\n",
       "      <th>touch_screen</th>\n",
       "      <th>wifi</th>\n",
       "      <th>price_range</th>\n",
       "    </tr>\n",
       "  </thead>\n",
       "  <tbody>\n",
       "    <tr>\n",
       "      <th>count</th>\n",
       "      <td>2000.000000</td>\n",
       "      <td>2000.0000</td>\n",
       "      <td>2000.000000</td>\n",
       "      <td>2000.000000</td>\n",
       "      <td>2000.000000</td>\n",
       "      <td>2000.000000</td>\n",
       "      <td>2000.000000</td>\n",
       "      <td>2000.000000</td>\n",
       "      <td>2000.000000</td>\n",
       "      <td>2000.000000</td>\n",
       "      <td>...</td>\n",
       "      <td>2000.000000</td>\n",
       "      <td>2000.000000</td>\n",
       "      <td>2000.000000</td>\n",
       "      <td>2000.000000</td>\n",
       "      <td>2000.000000</td>\n",
       "      <td>2000.000000</td>\n",
       "      <td>2000.000000</td>\n",
       "      <td>2000.000000</td>\n",
       "      <td>2000.000000</td>\n",
       "      <td>2000.000000</td>\n",
       "    </tr>\n",
       "    <tr>\n",
       "      <th>mean</th>\n",
       "      <td>1238.518500</td>\n",
       "      <td>0.4950</td>\n",
       "      <td>1.522250</td>\n",
       "      <td>0.509500</td>\n",
       "      <td>4.309500</td>\n",
       "      <td>0.521500</td>\n",
       "      <td>32.046500</td>\n",
       "      <td>0.501750</td>\n",
       "      <td>140.249000</td>\n",
       "      <td>4.520500</td>\n",
       "      <td>...</td>\n",
       "      <td>645.108000</td>\n",
       "      <td>1251.515500</td>\n",
       "      <td>2124.213000</td>\n",
       "      <td>12.306500</td>\n",
       "      <td>5.767000</td>\n",
       "      <td>11.011000</td>\n",
       "      <td>0.761500</td>\n",
       "      <td>0.503000</td>\n",
       "      <td>0.507000</td>\n",
       "      <td>1.500000</td>\n",
       "    </tr>\n",
       "    <tr>\n",
       "      <th>std</th>\n",
       "      <td>439.418206</td>\n",
       "      <td>0.5001</td>\n",
       "      <td>0.816004</td>\n",
       "      <td>0.500035</td>\n",
       "      <td>4.341444</td>\n",
       "      <td>0.499662</td>\n",
       "      <td>18.145715</td>\n",
       "      <td>0.288416</td>\n",
       "      <td>35.399655</td>\n",
       "      <td>2.287837</td>\n",
       "      <td>...</td>\n",
       "      <td>443.780811</td>\n",
       "      <td>432.199447</td>\n",
       "      <td>1084.732044</td>\n",
       "      <td>4.213245</td>\n",
       "      <td>4.356398</td>\n",
       "      <td>5.463955</td>\n",
       "      <td>0.426273</td>\n",
       "      <td>0.500116</td>\n",
       "      <td>0.500076</td>\n",
       "      <td>1.118314</td>\n",
       "    </tr>\n",
       "    <tr>\n",
       "      <th>min</th>\n",
       "      <td>501.000000</td>\n",
       "      <td>0.0000</td>\n",
       "      <td>0.500000</td>\n",
       "      <td>0.000000</td>\n",
       "      <td>0.000000</td>\n",
       "      <td>0.000000</td>\n",
       "      <td>2.000000</td>\n",
       "      <td>0.100000</td>\n",
       "      <td>80.000000</td>\n",
       "      <td>1.000000</td>\n",
       "      <td>...</td>\n",
       "      <td>0.000000</td>\n",
       "      <td>500.000000</td>\n",
       "      <td>256.000000</td>\n",
       "      <td>5.000000</td>\n",
       "      <td>0.000000</td>\n",
       "      <td>2.000000</td>\n",
       "      <td>0.000000</td>\n",
       "      <td>0.000000</td>\n",
       "      <td>0.000000</td>\n",
       "      <td>0.000000</td>\n",
       "    </tr>\n",
       "    <tr>\n",
       "      <th>25%</th>\n",
       "      <td>851.750000</td>\n",
       "      <td>0.0000</td>\n",
       "      <td>0.700000</td>\n",
       "      <td>0.000000</td>\n",
       "      <td>1.000000</td>\n",
       "      <td>0.000000</td>\n",
       "      <td>16.000000</td>\n",
       "      <td>0.200000</td>\n",
       "      <td>109.000000</td>\n",
       "      <td>3.000000</td>\n",
       "      <td>...</td>\n",
       "      <td>282.750000</td>\n",
       "      <td>874.750000</td>\n",
       "      <td>1207.500000</td>\n",
       "      <td>9.000000</td>\n",
       "      <td>2.000000</td>\n",
       "      <td>6.000000</td>\n",
       "      <td>1.000000</td>\n",
       "      <td>0.000000</td>\n",
       "      <td>0.000000</td>\n",
       "      <td>0.750000</td>\n",
       "    </tr>\n",
       "    <tr>\n",
       "      <th>50%</th>\n",
       "      <td>1226.000000</td>\n",
       "      <td>0.0000</td>\n",
       "      <td>1.500000</td>\n",
       "      <td>1.000000</td>\n",
       "      <td>3.000000</td>\n",
       "      <td>1.000000</td>\n",
       "      <td>32.000000</td>\n",
       "      <td>0.500000</td>\n",
       "      <td>141.000000</td>\n",
       "      <td>4.000000</td>\n",
       "      <td>...</td>\n",
       "      <td>564.000000</td>\n",
       "      <td>1247.000000</td>\n",
       "      <td>2146.500000</td>\n",
       "      <td>12.000000</td>\n",
       "      <td>5.000000</td>\n",
       "      <td>11.000000</td>\n",
       "      <td>1.000000</td>\n",
       "      <td>1.000000</td>\n",
       "      <td>1.000000</td>\n",
       "      <td>1.500000</td>\n",
       "    </tr>\n",
       "    <tr>\n",
       "      <th>75%</th>\n",
       "      <td>1615.250000</td>\n",
       "      <td>1.0000</td>\n",
       "      <td>2.200000</td>\n",
       "      <td>1.000000</td>\n",
       "      <td>7.000000</td>\n",
       "      <td>1.000000</td>\n",
       "      <td>48.000000</td>\n",
       "      <td>0.800000</td>\n",
       "      <td>170.000000</td>\n",
       "      <td>7.000000</td>\n",
       "      <td>...</td>\n",
       "      <td>947.250000</td>\n",
       "      <td>1633.000000</td>\n",
       "      <td>3064.500000</td>\n",
       "      <td>16.000000</td>\n",
       "      <td>9.000000</td>\n",
       "      <td>16.000000</td>\n",
       "      <td>1.000000</td>\n",
       "      <td>1.000000</td>\n",
       "      <td>1.000000</td>\n",
       "      <td>2.250000</td>\n",
       "    </tr>\n",
       "    <tr>\n",
       "      <th>max</th>\n",
       "      <td>1998.000000</td>\n",
       "      <td>1.0000</td>\n",
       "      <td>3.000000</td>\n",
       "      <td>1.000000</td>\n",
       "      <td>19.000000</td>\n",
       "      <td>1.000000</td>\n",
       "      <td>64.000000</td>\n",
       "      <td>1.000000</td>\n",
       "      <td>200.000000</td>\n",
       "      <td>8.000000</td>\n",
       "      <td>...</td>\n",
       "      <td>1960.000000</td>\n",
       "      <td>1998.000000</td>\n",
       "      <td>3998.000000</td>\n",
       "      <td>19.000000</td>\n",
       "      <td>18.000000</td>\n",
       "      <td>20.000000</td>\n",
       "      <td>1.000000</td>\n",
       "      <td>1.000000</td>\n",
       "      <td>1.000000</td>\n",
       "      <td>3.000000</td>\n",
       "    </tr>\n",
       "  </tbody>\n",
       "</table>\n",
       "<p>8 rows × 21 columns</p>\n",
       "</div>"
      ],
      "text/plain": [
       "       battery_power       blue  clock_speed     dual_sim           fc  \\\n",
       "count    2000.000000  2000.0000  2000.000000  2000.000000  2000.000000   \n",
       "mean     1238.518500     0.4950     1.522250     0.509500     4.309500   \n",
       "std       439.418206     0.5001     0.816004     0.500035     4.341444   \n",
       "min       501.000000     0.0000     0.500000     0.000000     0.000000   \n",
       "25%       851.750000     0.0000     0.700000     0.000000     1.000000   \n",
       "50%      1226.000000     0.0000     1.500000     1.000000     3.000000   \n",
       "75%      1615.250000     1.0000     2.200000     1.000000     7.000000   \n",
       "max      1998.000000     1.0000     3.000000     1.000000    19.000000   \n",
       "\n",
       "            four_g   int_memory        m_dep    mobile_wt      n_cores  ...  \\\n",
       "count  2000.000000  2000.000000  2000.000000  2000.000000  2000.000000  ...   \n",
       "mean      0.521500    32.046500     0.501750   140.249000     4.520500  ...   \n",
       "std       0.499662    18.145715     0.288416    35.399655     2.287837  ...   \n",
       "min       0.000000     2.000000     0.100000    80.000000     1.000000  ...   \n",
       "25%       0.000000    16.000000     0.200000   109.000000     3.000000  ...   \n",
       "50%       1.000000    32.000000     0.500000   141.000000     4.000000  ...   \n",
       "75%       1.000000    48.000000     0.800000   170.000000     7.000000  ...   \n",
       "max       1.000000    64.000000     1.000000   200.000000     8.000000  ...   \n",
       "\n",
       "         px_height     px_width          ram         sc_h         sc_w  \\\n",
       "count  2000.000000  2000.000000  2000.000000  2000.000000  2000.000000   \n",
       "mean    645.108000  1251.515500  2124.213000    12.306500     5.767000   \n",
       "std     443.780811   432.199447  1084.732044     4.213245     4.356398   \n",
       "min       0.000000   500.000000   256.000000     5.000000     0.000000   \n",
       "25%     282.750000   874.750000  1207.500000     9.000000     2.000000   \n",
       "50%     564.000000  1247.000000  2146.500000    12.000000     5.000000   \n",
       "75%     947.250000  1633.000000  3064.500000    16.000000     9.000000   \n",
       "max    1960.000000  1998.000000  3998.000000    19.000000    18.000000   \n",
       "\n",
       "         talk_time      three_g  touch_screen         wifi  price_range  \n",
       "count  2000.000000  2000.000000   2000.000000  2000.000000  2000.000000  \n",
       "mean     11.011000     0.761500      0.503000     0.507000     1.500000  \n",
       "std       5.463955     0.426273      0.500116     0.500076     1.118314  \n",
       "min       2.000000     0.000000      0.000000     0.000000     0.000000  \n",
       "25%       6.000000     1.000000      0.000000     0.000000     0.750000  \n",
       "50%      11.000000     1.000000      1.000000     1.000000     1.500000  \n",
       "75%      16.000000     1.000000      1.000000     1.000000     2.250000  \n",
       "max      20.000000     1.000000      1.000000     1.000000     3.000000  \n",
       "\n",
       "[8 rows x 21 columns]"
      ]
     },
     "execution_count": 8,
     "metadata": {},
     "output_type": "execute_result"
    }
   ],
   "source": [
    "# statistical measure\n",
    "dataframe.describe()"
   ]
  },
  {
   "cell_type": "code",
   "execution_count": 9,
   "id": "b19b3550",
   "metadata": {},
   "outputs": [
    {
     "data": {
      "text/html": [
       "<div>\n",
       "<style scoped>\n",
       "    .dataframe tbody tr th:only-of-type {\n",
       "        vertical-align: middle;\n",
       "    }\n",
       "\n",
       "    .dataframe tbody tr th {\n",
       "        vertical-align: top;\n",
       "    }\n",
       "\n",
       "    .dataframe thead th {\n",
       "        text-align: right;\n",
       "    }\n",
       "</style>\n",
       "<table border=\"1\" class=\"dataframe\">\n",
       "  <thead>\n",
       "    <tr style=\"text-align: right;\">\n",
       "      <th></th>\n",
       "      <th>battery_power</th>\n",
       "      <th>blue</th>\n",
       "      <th>clock_speed</th>\n",
       "      <th>dual_sim</th>\n",
       "      <th>fc</th>\n",
       "      <th>four_g</th>\n",
       "      <th>int_memory</th>\n",
       "      <th>m_dep</th>\n",
       "      <th>mobile_wt</th>\n",
       "      <th>n_cores</th>\n",
       "      <th>...</th>\n",
       "      <th>px_height</th>\n",
       "      <th>px_width</th>\n",
       "      <th>ram</th>\n",
       "      <th>sc_h</th>\n",
       "      <th>sc_w</th>\n",
       "      <th>talk_time</th>\n",
       "      <th>three_g</th>\n",
       "      <th>touch_screen</th>\n",
       "      <th>wifi</th>\n",
       "      <th>price_range</th>\n",
       "    </tr>\n",
       "  </thead>\n",
       "  <tbody>\n",
       "    <tr>\n",
       "      <th>battery_power</th>\n",
       "      <td>1.000000</td>\n",
       "      <td>0.011252</td>\n",
       "      <td>0.011482</td>\n",
       "      <td>-0.041847</td>\n",
       "      <td>0.033334</td>\n",
       "      <td>0.015665</td>\n",
       "      <td>-0.004004</td>\n",
       "      <td>0.034085</td>\n",
       "      <td>0.001844</td>\n",
       "      <td>-0.029727</td>\n",
       "      <td>...</td>\n",
       "      <td>0.014901</td>\n",
       "      <td>-0.008402</td>\n",
       "      <td>-0.000653</td>\n",
       "      <td>-0.029959</td>\n",
       "      <td>-0.021421</td>\n",
       "      <td>0.052510</td>\n",
       "      <td>0.011522</td>\n",
       "      <td>-0.010516</td>\n",
       "      <td>-0.008343</td>\n",
       "      <td>0.200723</td>\n",
       "    </tr>\n",
       "    <tr>\n",
       "      <th>blue</th>\n",
       "      <td>0.011252</td>\n",
       "      <td>1.000000</td>\n",
       "      <td>0.021419</td>\n",
       "      <td>0.035198</td>\n",
       "      <td>0.003593</td>\n",
       "      <td>0.013443</td>\n",
       "      <td>0.041177</td>\n",
       "      <td>0.004049</td>\n",
       "      <td>-0.008605</td>\n",
       "      <td>0.036161</td>\n",
       "      <td>...</td>\n",
       "      <td>-0.006872</td>\n",
       "      <td>-0.041533</td>\n",
       "      <td>0.026351</td>\n",
       "      <td>-0.002952</td>\n",
       "      <td>0.000613</td>\n",
       "      <td>0.013934</td>\n",
       "      <td>-0.030236</td>\n",
       "      <td>0.010061</td>\n",
       "      <td>-0.021863</td>\n",
       "      <td>0.020573</td>\n",
       "    </tr>\n",
       "    <tr>\n",
       "      <th>clock_speed</th>\n",
       "      <td>0.011482</td>\n",
       "      <td>0.021419</td>\n",
       "      <td>1.000000</td>\n",
       "      <td>-0.001315</td>\n",
       "      <td>-0.000434</td>\n",
       "      <td>-0.043073</td>\n",
       "      <td>0.006545</td>\n",
       "      <td>-0.014364</td>\n",
       "      <td>0.012350</td>\n",
       "      <td>-0.005724</td>\n",
       "      <td>...</td>\n",
       "      <td>-0.014523</td>\n",
       "      <td>-0.009476</td>\n",
       "      <td>0.003443</td>\n",
       "      <td>-0.029078</td>\n",
       "      <td>-0.007378</td>\n",
       "      <td>-0.011432</td>\n",
       "      <td>-0.046433</td>\n",
       "      <td>0.019756</td>\n",
       "      <td>-0.024471</td>\n",
       "      <td>-0.006606</td>\n",
       "    </tr>\n",
       "    <tr>\n",
       "      <th>dual_sim</th>\n",
       "      <td>-0.041847</td>\n",
       "      <td>0.035198</td>\n",
       "      <td>-0.001315</td>\n",
       "      <td>1.000000</td>\n",
       "      <td>-0.029123</td>\n",
       "      <td>0.003187</td>\n",
       "      <td>-0.015679</td>\n",
       "      <td>-0.022142</td>\n",
       "      <td>-0.008979</td>\n",
       "      <td>-0.024658</td>\n",
       "      <td>...</td>\n",
       "      <td>-0.020875</td>\n",
       "      <td>0.014291</td>\n",
       "      <td>0.041072</td>\n",
       "      <td>-0.011949</td>\n",
       "      <td>-0.016666</td>\n",
       "      <td>-0.039404</td>\n",
       "      <td>-0.014008</td>\n",
       "      <td>-0.017117</td>\n",
       "      <td>0.022740</td>\n",
       "      <td>0.017444</td>\n",
       "    </tr>\n",
       "    <tr>\n",
       "      <th>fc</th>\n",
       "      <td>0.033334</td>\n",
       "      <td>0.003593</td>\n",
       "      <td>-0.000434</td>\n",
       "      <td>-0.029123</td>\n",
       "      <td>1.000000</td>\n",
       "      <td>-0.016560</td>\n",
       "      <td>-0.029133</td>\n",
       "      <td>-0.001791</td>\n",
       "      <td>0.023618</td>\n",
       "      <td>-0.013356</td>\n",
       "      <td>...</td>\n",
       "      <td>-0.009990</td>\n",
       "      <td>-0.005176</td>\n",
       "      <td>0.015099</td>\n",
       "      <td>-0.011014</td>\n",
       "      <td>-0.012373</td>\n",
       "      <td>-0.006829</td>\n",
       "      <td>0.001793</td>\n",
       "      <td>-0.014828</td>\n",
       "      <td>0.020085</td>\n",
       "      <td>0.021998</td>\n",
       "    </tr>\n",
       "    <tr>\n",
       "      <th>four_g</th>\n",
       "      <td>0.015665</td>\n",
       "      <td>0.013443</td>\n",
       "      <td>-0.043073</td>\n",
       "      <td>0.003187</td>\n",
       "      <td>-0.016560</td>\n",
       "      <td>1.000000</td>\n",
       "      <td>0.008690</td>\n",
       "      <td>-0.001823</td>\n",
       "      <td>-0.016537</td>\n",
       "      <td>-0.029706</td>\n",
       "      <td>...</td>\n",
       "      <td>-0.019236</td>\n",
       "      <td>0.007448</td>\n",
       "      <td>0.007313</td>\n",
       "      <td>0.027166</td>\n",
       "      <td>0.037005</td>\n",
       "      <td>-0.046628</td>\n",
       "      <td>0.584246</td>\n",
       "      <td>0.016758</td>\n",
       "      <td>-0.017620</td>\n",
       "      <td>0.014772</td>\n",
       "    </tr>\n",
       "    <tr>\n",
       "      <th>int_memory</th>\n",
       "      <td>-0.004004</td>\n",
       "      <td>0.041177</td>\n",
       "      <td>0.006545</td>\n",
       "      <td>-0.015679</td>\n",
       "      <td>-0.029133</td>\n",
       "      <td>0.008690</td>\n",
       "      <td>1.000000</td>\n",
       "      <td>0.006886</td>\n",
       "      <td>-0.034214</td>\n",
       "      <td>-0.028310</td>\n",
       "      <td>...</td>\n",
       "      <td>0.010441</td>\n",
       "      <td>-0.008335</td>\n",
       "      <td>0.032813</td>\n",
       "      <td>0.037771</td>\n",
       "      <td>0.011731</td>\n",
       "      <td>-0.002790</td>\n",
       "      <td>-0.009366</td>\n",
       "      <td>-0.026999</td>\n",
       "      <td>0.006993</td>\n",
       "      <td>0.044435</td>\n",
       "    </tr>\n",
       "    <tr>\n",
       "      <th>m_dep</th>\n",
       "      <td>0.034085</td>\n",
       "      <td>0.004049</td>\n",
       "      <td>-0.014364</td>\n",
       "      <td>-0.022142</td>\n",
       "      <td>-0.001791</td>\n",
       "      <td>-0.001823</td>\n",
       "      <td>0.006886</td>\n",
       "      <td>1.000000</td>\n",
       "      <td>0.021756</td>\n",
       "      <td>-0.003504</td>\n",
       "      <td>...</td>\n",
       "      <td>0.025263</td>\n",
       "      <td>0.023566</td>\n",
       "      <td>-0.009434</td>\n",
       "      <td>-0.025348</td>\n",
       "      <td>-0.018388</td>\n",
       "      <td>0.017003</td>\n",
       "      <td>-0.012065</td>\n",
       "      <td>-0.002638</td>\n",
       "      <td>-0.028353</td>\n",
       "      <td>0.000853</td>\n",
       "    </tr>\n",
       "    <tr>\n",
       "      <th>mobile_wt</th>\n",
       "      <td>0.001844</td>\n",
       "      <td>-0.008605</td>\n",
       "      <td>0.012350</td>\n",
       "      <td>-0.008979</td>\n",
       "      <td>0.023618</td>\n",
       "      <td>-0.016537</td>\n",
       "      <td>-0.034214</td>\n",
       "      <td>0.021756</td>\n",
       "      <td>1.000000</td>\n",
       "      <td>-0.018989</td>\n",
       "      <td>...</td>\n",
       "      <td>0.000939</td>\n",
       "      <td>0.000090</td>\n",
       "      <td>-0.002581</td>\n",
       "      <td>-0.033855</td>\n",
       "      <td>-0.020761</td>\n",
       "      <td>0.006209</td>\n",
       "      <td>0.001551</td>\n",
       "      <td>-0.014368</td>\n",
       "      <td>-0.000409</td>\n",
       "      <td>-0.030302</td>\n",
       "    </tr>\n",
       "    <tr>\n",
       "      <th>n_cores</th>\n",
       "      <td>-0.029727</td>\n",
       "      <td>0.036161</td>\n",
       "      <td>-0.005724</td>\n",
       "      <td>-0.024658</td>\n",
       "      <td>-0.013356</td>\n",
       "      <td>-0.029706</td>\n",
       "      <td>-0.028310</td>\n",
       "      <td>-0.003504</td>\n",
       "      <td>-0.018989</td>\n",
       "      <td>1.000000</td>\n",
       "      <td>...</td>\n",
       "      <td>-0.006872</td>\n",
       "      <td>0.024480</td>\n",
       "      <td>0.004868</td>\n",
       "      <td>-0.000315</td>\n",
       "      <td>0.025826</td>\n",
       "      <td>0.013148</td>\n",
       "      <td>-0.014733</td>\n",
       "      <td>0.023774</td>\n",
       "      <td>-0.009964</td>\n",
       "      <td>0.004399</td>\n",
       "    </tr>\n",
       "    <tr>\n",
       "      <th>pc</th>\n",
       "      <td>0.031441</td>\n",
       "      <td>-0.009952</td>\n",
       "      <td>-0.005245</td>\n",
       "      <td>-0.017143</td>\n",
       "      <td>0.644595</td>\n",
       "      <td>-0.005598</td>\n",
       "      <td>-0.033273</td>\n",
       "      <td>0.026282</td>\n",
       "      <td>0.018844</td>\n",
       "      <td>-0.001193</td>\n",
       "      <td>...</td>\n",
       "      <td>-0.018465</td>\n",
       "      <td>0.004196</td>\n",
       "      <td>0.028984</td>\n",
       "      <td>0.004938</td>\n",
       "      <td>-0.023819</td>\n",
       "      <td>0.014657</td>\n",
       "      <td>-0.001322</td>\n",
       "      <td>-0.008742</td>\n",
       "      <td>0.005389</td>\n",
       "      <td>0.033599</td>\n",
       "    </tr>\n",
       "    <tr>\n",
       "      <th>px_height</th>\n",
       "      <td>0.014901</td>\n",
       "      <td>-0.006872</td>\n",
       "      <td>-0.014523</td>\n",
       "      <td>-0.020875</td>\n",
       "      <td>-0.009990</td>\n",
       "      <td>-0.019236</td>\n",
       "      <td>0.010441</td>\n",
       "      <td>0.025263</td>\n",
       "      <td>0.000939</td>\n",
       "      <td>-0.006872</td>\n",
       "      <td>...</td>\n",
       "      <td>1.000000</td>\n",
       "      <td>0.510664</td>\n",
       "      <td>-0.020352</td>\n",
       "      <td>0.059615</td>\n",
       "      <td>0.043038</td>\n",
       "      <td>-0.010645</td>\n",
       "      <td>-0.031174</td>\n",
       "      <td>0.021891</td>\n",
       "      <td>0.051824</td>\n",
       "      <td>0.148858</td>\n",
       "    </tr>\n",
       "    <tr>\n",
       "      <th>px_width</th>\n",
       "      <td>-0.008402</td>\n",
       "      <td>-0.041533</td>\n",
       "      <td>-0.009476</td>\n",
       "      <td>0.014291</td>\n",
       "      <td>-0.005176</td>\n",
       "      <td>0.007448</td>\n",
       "      <td>-0.008335</td>\n",
       "      <td>0.023566</td>\n",
       "      <td>0.000090</td>\n",
       "      <td>0.024480</td>\n",
       "      <td>...</td>\n",
       "      <td>0.510664</td>\n",
       "      <td>1.000000</td>\n",
       "      <td>0.004105</td>\n",
       "      <td>0.021599</td>\n",
       "      <td>0.034699</td>\n",
       "      <td>0.006720</td>\n",
       "      <td>0.000350</td>\n",
       "      <td>-0.001628</td>\n",
       "      <td>0.030319</td>\n",
       "      <td>0.165818</td>\n",
       "    </tr>\n",
       "    <tr>\n",
       "      <th>ram</th>\n",
       "      <td>-0.000653</td>\n",
       "      <td>0.026351</td>\n",
       "      <td>0.003443</td>\n",
       "      <td>0.041072</td>\n",
       "      <td>0.015099</td>\n",
       "      <td>0.007313</td>\n",
       "      <td>0.032813</td>\n",
       "      <td>-0.009434</td>\n",
       "      <td>-0.002581</td>\n",
       "      <td>0.004868</td>\n",
       "      <td>...</td>\n",
       "      <td>-0.020352</td>\n",
       "      <td>0.004105</td>\n",
       "      <td>1.000000</td>\n",
       "      <td>0.015996</td>\n",
       "      <td>0.035576</td>\n",
       "      <td>0.010820</td>\n",
       "      <td>0.015795</td>\n",
       "      <td>-0.030455</td>\n",
       "      <td>0.022669</td>\n",
       "      <td>0.917046</td>\n",
       "    </tr>\n",
       "    <tr>\n",
       "      <th>sc_h</th>\n",
       "      <td>-0.029959</td>\n",
       "      <td>-0.002952</td>\n",
       "      <td>-0.029078</td>\n",
       "      <td>-0.011949</td>\n",
       "      <td>-0.011014</td>\n",
       "      <td>0.027166</td>\n",
       "      <td>0.037771</td>\n",
       "      <td>-0.025348</td>\n",
       "      <td>-0.033855</td>\n",
       "      <td>-0.000315</td>\n",
       "      <td>...</td>\n",
       "      <td>0.059615</td>\n",
       "      <td>0.021599</td>\n",
       "      <td>0.015996</td>\n",
       "      <td>1.000000</td>\n",
       "      <td>0.506144</td>\n",
       "      <td>-0.017335</td>\n",
       "      <td>0.012033</td>\n",
       "      <td>-0.020023</td>\n",
       "      <td>0.025929</td>\n",
       "      <td>0.022986</td>\n",
       "    </tr>\n",
       "    <tr>\n",
       "      <th>sc_w</th>\n",
       "      <td>-0.021421</td>\n",
       "      <td>0.000613</td>\n",
       "      <td>-0.007378</td>\n",
       "      <td>-0.016666</td>\n",
       "      <td>-0.012373</td>\n",
       "      <td>0.037005</td>\n",
       "      <td>0.011731</td>\n",
       "      <td>-0.018388</td>\n",
       "      <td>-0.020761</td>\n",
       "      <td>0.025826</td>\n",
       "      <td>...</td>\n",
       "      <td>0.043038</td>\n",
       "      <td>0.034699</td>\n",
       "      <td>0.035576</td>\n",
       "      <td>0.506144</td>\n",
       "      <td>1.000000</td>\n",
       "      <td>-0.022821</td>\n",
       "      <td>0.030941</td>\n",
       "      <td>0.012720</td>\n",
       "      <td>0.035423</td>\n",
       "      <td>0.038711</td>\n",
       "    </tr>\n",
       "    <tr>\n",
       "      <th>talk_time</th>\n",
       "      <td>0.052510</td>\n",
       "      <td>0.013934</td>\n",
       "      <td>-0.011432</td>\n",
       "      <td>-0.039404</td>\n",
       "      <td>-0.006829</td>\n",
       "      <td>-0.046628</td>\n",
       "      <td>-0.002790</td>\n",
       "      <td>0.017003</td>\n",
       "      <td>0.006209</td>\n",
       "      <td>0.013148</td>\n",
       "      <td>...</td>\n",
       "      <td>-0.010645</td>\n",
       "      <td>0.006720</td>\n",
       "      <td>0.010820</td>\n",
       "      <td>-0.017335</td>\n",
       "      <td>-0.022821</td>\n",
       "      <td>1.000000</td>\n",
       "      <td>-0.042688</td>\n",
       "      <td>0.017196</td>\n",
       "      <td>-0.029504</td>\n",
       "      <td>0.021859</td>\n",
       "    </tr>\n",
       "    <tr>\n",
       "      <th>three_g</th>\n",
       "      <td>0.011522</td>\n",
       "      <td>-0.030236</td>\n",
       "      <td>-0.046433</td>\n",
       "      <td>-0.014008</td>\n",
       "      <td>0.001793</td>\n",
       "      <td>0.584246</td>\n",
       "      <td>-0.009366</td>\n",
       "      <td>-0.012065</td>\n",
       "      <td>0.001551</td>\n",
       "      <td>-0.014733</td>\n",
       "      <td>...</td>\n",
       "      <td>-0.031174</td>\n",
       "      <td>0.000350</td>\n",
       "      <td>0.015795</td>\n",
       "      <td>0.012033</td>\n",
       "      <td>0.030941</td>\n",
       "      <td>-0.042688</td>\n",
       "      <td>1.000000</td>\n",
       "      <td>0.013917</td>\n",
       "      <td>0.004316</td>\n",
       "      <td>0.023611</td>\n",
       "    </tr>\n",
       "    <tr>\n",
       "      <th>touch_screen</th>\n",
       "      <td>-0.010516</td>\n",
       "      <td>0.010061</td>\n",
       "      <td>0.019756</td>\n",
       "      <td>-0.017117</td>\n",
       "      <td>-0.014828</td>\n",
       "      <td>0.016758</td>\n",
       "      <td>-0.026999</td>\n",
       "      <td>-0.002638</td>\n",
       "      <td>-0.014368</td>\n",
       "      <td>0.023774</td>\n",
       "      <td>...</td>\n",
       "      <td>0.021891</td>\n",
       "      <td>-0.001628</td>\n",
       "      <td>-0.030455</td>\n",
       "      <td>-0.020023</td>\n",
       "      <td>0.012720</td>\n",
       "      <td>0.017196</td>\n",
       "      <td>0.013917</td>\n",
       "      <td>1.000000</td>\n",
       "      <td>0.011917</td>\n",
       "      <td>-0.030411</td>\n",
       "    </tr>\n",
       "    <tr>\n",
       "      <th>wifi</th>\n",
       "      <td>-0.008343</td>\n",
       "      <td>-0.021863</td>\n",
       "      <td>-0.024471</td>\n",
       "      <td>0.022740</td>\n",
       "      <td>0.020085</td>\n",
       "      <td>-0.017620</td>\n",
       "      <td>0.006993</td>\n",
       "      <td>-0.028353</td>\n",
       "      <td>-0.000409</td>\n",
       "      <td>-0.009964</td>\n",
       "      <td>...</td>\n",
       "      <td>0.051824</td>\n",
       "      <td>0.030319</td>\n",
       "      <td>0.022669</td>\n",
       "      <td>0.025929</td>\n",
       "      <td>0.035423</td>\n",
       "      <td>-0.029504</td>\n",
       "      <td>0.004316</td>\n",
       "      <td>0.011917</td>\n",
       "      <td>1.000000</td>\n",
       "      <td>0.018785</td>\n",
       "    </tr>\n",
       "    <tr>\n",
       "      <th>price_range</th>\n",
       "      <td>0.200723</td>\n",
       "      <td>0.020573</td>\n",
       "      <td>-0.006606</td>\n",
       "      <td>0.017444</td>\n",
       "      <td>0.021998</td>\n",
       "      <td>0.014772</td>\n",
       "      <td>0.044435</td>\n",
       "      <td>0.000853</td>\n",
       "      <td>-0.030302</td>\n",
       "      <td>0.004399</td>\n",
       "      <td>...</td>\n",
       "      <td>0.148858</td>\n",
       "      <td>0.165818</td>\n",
       "      <td>0.917046</td>\n",
       "      <td>0.022986</td>\n",
       "      <td>0.038711</td>\n",
       "      <td>0.021859</td>\n",
       "      <td>0.023611</td>\n",
       "      <td>-0.030411</td>\n",
       "      <td>0.018785</td>\n",
       "      <td>1.000000</td>\n",
       "    </tr>\n",
       "  </tbody>\n",
       "</table>\n",
       "<p>21 rows × 21 columns</p>\n",
       "</div>"
      ],
      "text/plain": [
       "               battery_power      blue  clock_speed  dual_sim        fc  \\\n",
       "battery_power       1.000000  0.011252     0.011482 -0.041847  0.033334   \n",
       "blue                0.011252  1.000000     0.021419  0.035198  0.003593   \n",
       "clock_speed         0.011482  0.021419     1.000000 -0.001315 -0.000434   \n",
       "dual_sim           -0.041847  0.035198    -0.001315  1.000000 -0.029123   \n",
       "fc                  0.033334  0.003593    -0.000434 -0.029123  1.000000   \n",
       "four_g              0.015665  0.013443    -0.043073  0.003187 -0.016560   \n",
       "int_memory         -0.004004  0.041177     0.006545 -0.015679 -0.029133   \n",
       "m_dep               0.034085  0.004049    -0.014364 -0.022142 -0.001791   \n",
       "mobile_wt           0.001844 -0.008605     0.012350 -0.008979  0.023618   \n",
       "n_cores            -0.029727  0.036161    -0.005724 -0.024658 -0.013356   \n",
       "pc                  0.031441 -0.009952    -0.005245 -0.017143  0.644595   \n",
       "px_height           0.014901 -0.006872    -0.014523 -0.020875 -0.009990   \n",
       "px_width           -0.008402 -0.041533    -0.009476  0.014291 -0.005176   \n",
       "ram                -0.000653  0.026351     0.003443  0.041072  0.015099   \n",
       "sc_h               -0.029959 -0.002952    -0.029078 -0.011949 -0.011014   \n",
       "sc_w               -0.021421  0.000613    -0.007378 -0.016666 -0.012373   \n",
       "talk_time           0.052510  0.013934    -0.011432 -0.039404 -0.006829   \n",
       "three_g             0.011522 -0.030236    -0.046433 -0.014008  0.001793   \n",
       "touch_screen       -0.010516  0.010061     0.019756 -0.017117 -0.014828   \n",
       "wifi               -0.008343 -0.021863    -0.024471  0.022740  0.020085   \n",
       "price_range         0.200723  0.020573    -0.006606  0.017444  0.021998   \n",
       "\n",
       "                 four_g  int_memory     m_dep  mobile_wt   n_cores  ...  \\\n",
       "battery_power  0.015665   -0.004004  0.034085   0.001844 -0.029727  ...   \n",
       "blue           0.013443    0.041177  0.004049  -0.008605  0.036161  ...   \n",
       "clock_speed   -0.043073    0.006545 -0.014364   0.012350 -0.005724  ...   \n",
       "dual_sim       0.003187   -0.015679 -0.022142  -0.008979 -0.024658  ...   \n",
       "fc            -0.016560   -0.029133 -0.001791   0.023618 -0.013356  ...   \n",
       "four_g         1.000000    0.008690 -0.001823  -0.016537 -0.029706  ...   \n",
       "int_memory     0.008690    1.000000  0.006886  -0.034214 -0.028310  ...   \n",
       "m_dep         -0.001823    0.006886  1.000000   0.021756 -0.003504  ...   \n",
       "mobile_wt     -0.016537   -0.034214  0.021756   1.000000 -0.018989  ...   \n",
       "n_cores       -0.029706   -0.028310 -0.003504  -0.018989  1.000000  ...   \n",
       "pc            -0.005598   -0.033273  0.026282   0.018844 -0.001193  ...   \n",
       "px_height     -0.019236    0.010441  0.025263   0.000939 -0.006872  ...   \n",
       "px_width       0.007448   -0.008335  0.023566   0.000090  0.024480  ...   \n",
       "ram            0.007313    0.032813 -0.009434  -0.002581  0.004868  ...   \n",
       "sc_h           0.027166    0.037771 -0.025348  -0.033855 -0.000315  ...   \n",
       "sc_w           0.037005    0.011731 -0.018388  -0.020761  0.025826  ...   \n",
       "talk_time     -0.046628   -0.002790  0.017003   0.006209  0.013148  ...   \n",
       "three_g        0.584246   -0.009366 -0.012065   0.001551 -0.014733  ...   \n",
       "touch_screen   0.016758   -0.026999 -0.002638  -0.014368  0.023774  ...   \n",
       "wifi          -0.017620    0.006993 -0.028353  -0.000409 -0.009964  ...   \n",
       "price_range    0.014772    0.044435  0.000853  -0.030302  0.004399  ...   \n",
       "\n",
       "               px_height  px_width       ram      sc_h      sc_w  talk_time  \\\n",
       "battery_power   0.014901 -0.008402 -0.000653 -0.029959 -0.021421   0.052510   \n",
       "blue           -0.006872 -0.041533  0.026351 -0.002952  0.000613   0.013934   \n",
       "clock_speed    -0.014523 -0.009476  0.003443 -0.029078 -0.007378  -0.011432   \n",
       "dual_sim       -0.020875  0.014291  0.041072 -0.011949 -0.016666  -0.039404   \n",
       "fc             -0.009990 -0.005176  0.015099 -0.011014 -0.012373  -0.006829   \n",
       "four_g         -0.019236  0.007448  0.007313  0.027166  0.037005  -0.046628   \n",
       "int_memory      0.010441 -0.008335  0.032813  0.037771  0.011731  -0.002790   \n",
       "m_dep           0.025263  0.023566 -0.009434 -0.025348 -0.018388   0.017003   \n",
       "mobile_wt       0.000939  0.000090 -0.002581 -0.033855 -0.020761   0.006209   \n",
       "n_cores        -0.006872  0.024480  0.004868 -0.000315  0.025826   0.013148   \n",
       "pc             -0.018465  0.004196  0.028984  0.004938 -0.023819   0.014657   \n",
       "px_height       1.000000  0.510664 -0.020352  0.059615  0.043038  -0.010645   \n",
       "px_width        0.510664  1.000000  0.004105  0.021599  0.034699   0.006720   \n",
       "ram            -0.020352  0.004105  1.000000  0.015996  0.035576   0.010820   \n",
       "sc_h            0.059615  0.021599  0.015996  1.000000  0.506144  -0.017335   \n",
       "sc_w            0.043038  0.034699  0.035576  0.506144  1.000000  -0.022821   \n",
       "talk_time      -0.010645  0.006720  0.010820 -0.017335 -0.022821   1.000000   \n",
       "three_g        -0.031174  0.000350  0.015795  0.012033  0.030941  -0.042688   \n",
       "touch_screen    0.021891 -0.001628 -0.030455 -0.020023  0.012720   0.017196   \n",
       "wifi            0.051824  0.030319  0.022669  0.025929  0.035423  -0.029504   \n",
       "price_range     0.148858  0.165818  0.917046  0.022986  0.038711   0.021859   \n",
       "\n",
       "                three_g  touch_screen      wifi  price_range  \n",
       "battery_power  0.011522     -0.010516 -0.008343     0.200723  \n",
       "blue          -0.030236      0.010061 -0.021863     0.020573  \n",
       "clock_speed   -0.046433      0.019756 -0.024471    -0.006606  \n",
       "dual_sim      -0.014008     -0.017117  0.022740     0.017444  \n",
       "fc             0.001793     -0.014828  0.020085     0.021998  \n",
       "four_g         0.584246      0.016758 -0.017620     0.014772  \n",
       "int_memory    -0.009366     -0.026999  0.006993     0.044435  \n",
       "m_dep         -0.012065     -0.002638 -0.028353     0.000853  \n",
       "mobile_wt      0.001551     -0.014368 -0.000409    -0.030302  \n",
       "n_cores       -0.014733      0.023774 -0.009964     0.004399  \n",
       "pc            -0.001322     -0.008742  0.005389     0.033599  \n",
       "px_height     -0.031174      0.021891  0.051824     0.148858  \n",
       "px_width       0.000350     -0.001628  0.030319     0.165818  \n",
       "ram            0.015795     -0.030455  0.022669     0.917046  \n",
       "sc_h           0.012033     -0.020023  0.025929     0.022986  \n",
       "sc_w           0.030941      0.012720  0.035423     0.038711  \n",
       "talk_time     -0.042688      0.017196 -0.029504     0.021859  \n",
       "three_g        1.000000      0.013917  0.004316     0.023611  \n",
       "touch_screen   0.013917      1.000000  0.011917    -0.030411  \n",
       "wifi           0.004316      0.011917  1.000000     0.018785  \n",
       "price_range    0.023611     -0.030411  0.018785     1.000000  \n",
       "\n",
       "[21 rows x 21 columns]"
      ]
     },
     "execution_count": 9,
     "metadata": {},
     "output_type": "execute_result"
    }
   ],
   "source": [
    "# gives the correlation matrix\n",
    "dataframe.corr('pearson')"
   ]
  },
  {
   "cell_type": "code",
   "execution_count": 10,
   "id": "b7267cde",
   "metadata": {
    "scrolled": false
   },
   "outputs": [
    {
     "data": {
      "image/png": "[encoded data removed]",
      "text/plain": [
       "<Figure size 1080x720 with 2 Axes>"
      ]
     },
     "metadata": {
      "needs_background": "light"
     },
     "output_type": "display_data"
    }
   ],
   "source": [
    "# heat map\n",
    "plt.figure(figsize=(15,10))\n",
    "plt.title('Correlation Matrix')\n",
    "sns.heatmap(dataframe.corr(), annot=True, fmt='.1f', cbar=True, cmap='PuBuGn');"
   ]
  },
  {
   "cell_type": "markdown",
   "id": "1ee82ff4",
   "metadata": {},
   "source": [
    "## Data Visualization"
   ]
  },
  {
   "cell_type": "code",
   "execution_count": 11,
   "id": "53eecc8f",
   "metadata": {},
   "outputs": [
    {
     "data": {
      "text/plain": [
       "1872    6\n",
       "618     6\n",
       "1589    6\n",
       "1715    5\n",
       "1807    5\n",
       "       ..\n",
       "660     1\n",
       "1452    1\n",
       "1005    1\n",
       "1372    1\n",
       "858     1\n",
       "Name: battery_power, Length: 1094, dtype: int64"
      ]
     },
     "execution_count": 11,
     "metadata": {},
     "output_type": "execute_result"
    }
   ],
   "source": [
    "dataframe['battery_power'].value_counts()"
   ]
  },
  {
   "cell_type": "code",
   "execution_count": 12,
   "id": "08dbc444",
   "metadata": {
    "scrolled": false
   },
   "outputs": [
    {
     "data": {
      "image/png": "[encoded data removed]",
      "text/plain": [
       "<Figure size 864x432 with 1 Axes>"
      ]
     },
     "metadata": {
      "needs_background": "light"
     },
     "output_type": "display_data"
    }
   ],
   "source": [
    "plt.figure(figsize=(12,6))\n",
    "plt.title('Battery Power VS Price')\n",
    "sns.barplot(data=dataframe, \n",
    "             x='price_range',\n",
    "             y='battery_power',\n",
    "             palette='pastel');"
   ]
  },
  {
   "cell_type": "markdown",
   "id": "1561788f",
   "metadata": {},
   "source": [
    "## Insight\n",
    "As the battery power increases mobile price also increases."
   ]
  },
  {
   "cell_type": "code",
   "execution_count": 13,
   "id": "26e40e43",
   "metadata": {},
   "outputs": [
    {
     "data": {
      "text/plain": [
       "0    1010\n",
       "1     990\n",
       "Name: blue, dtype: int64"
      ]
     },
     "execution_count": 13,
     "metadata": {},
     "output_type": "execute_result"
    }
   ],
   "source": [
    "dataframe['blue'].value_counts()"
   ]
  },
  {
   "cell_type": "code",
   "execution_count": 14,
   "id": "ef96431a",
   "metadata": {},
   "outputs": [
    {
     "data": {
      "text/plain": [
       "0    0.505\n",
       "1    0.495\n",
       "Name: blue, dtype: float64"
      ]
     },
     "execution_count": 14,
     "metadata": {},
     "output_type": "execute_result"
    }
   ],
   "source": [
    "dataframe['blue'].value_counts(normalize=True)"
   ]
  },
  {
   "cell_type": "code",
   "execution_count": 15,
   "id": "cd8d4255",
   "metadata": {
    "scrolled": false
   },
   "outputs": [
    {
     "data": {
      "image/png": "[encoded data removed]",
      "text/plain": [
       "<Figure size 864x432 with 1 Axes>"
      ]
     },
     "metadata": {
      "needs_background": "light"
     },
     "output_type": "display_data"
    }
   ],
   "source": [
    "plt.figure(figsize=(12,6))\n",
    "plt.title('Bluetooth')\n",
    "sns.countplot(data=dataframe, \n",
    "              x='blue', \n",
    "              palette='pastel', \n",
    "              color='red');"
   ]
  },
  {
   "cell_type": "markdown",
   "id": "4dba0245",
   "metadata": {},
   "source": [
    "## Insight\n",
    "Nearly 50% mobile phones have no bluetooth connectivtiy."
   ]
  },
  {
   "cell_type": "code",
   "execution_count": 16,
   "id": "83264d05",
   "metadata": {},
   "outputs": [
    {
     "data": {
      "text/plain": [
       "0.5    413\n",
       "2.8     85\n",
       "2.3     78\n",
       "2.1     76\n",
       "1.6     76\n",
       "2.5     74\n",
       "0.6     74\n",
       "1.4     70\n",
       "1.3     68\n",
       "1.5     67\n",
       "2.0     67\n",
       "1.9     65\n",
       "0.7     64\n",
       "2.9     62\n",
       "1.8     62\n",
       "1.0     61\n",
       "1.7     60\n",
       "2.2     59\n",
       "0.9     58\n",
       "2.4     58\n",
       "0.8     58\n",
       "1.2     56\n",
       "2.6     55\n",
       "2.7     55\n",
       "1.1     51\n",
       "3.0     28\n",
       "Name: clock_speed, dtype: int64"
      ]
     },
     "execution_count": 16,
     "metadata": {},
     "output_type": "execute_result"
    }
   ],
   "source": [
    "dataframe['clock_speed'].value_counts()"
   ]
  },
  {
   "cell_type": "code",
   "execution_count": 17,
   "id": "4866f03f",
   "metadata": {},
   "outputs": [
    {
     "data": {
      "image/png": "[encoded data removed]",
      "text/plain": [
       "<Figure size 864x432 with 1 Axes>"
      ]
     },
     "metadata": {
      "needs_background": "light"
     },
     "output_type": "display_data"
    }
   ],
   "source": [
    "plt.figure(figsize=(12,6))\n",
    "plt.title('Clock Speed VS Price')\n",
    "sns.barplot(data=dataframe, \n",
    "             x='price_range', \n",
    "             y='clock_speed',\n",
    "             palette='rainbow');"
   ]
  },
  {
   "cell_type": "markdown",
   "id": "a6827472",
   "metadata": {},
   "source": [
    "## Insight\n",
    "As the clock speed increases mobile price decreases."
   ]
  },
  {
   "cell_type": "code",
   "execution_count": 18,
   "id": "58bea915",
   "metadata": {},
   "outputs": [
    {
     "data": {
      "text/plain": [
       "1    1019\n",
       "0     981\n",
       "Name: dual_sim, dtype: int64"
      ]
     },
     "execution_count": 18,
     "metadata": {},
     "output_type": "execute_result"
    }
   ],
   "source": [
    "dataframe['dual_sim'].value_counts()"
   ]
  },
  {
   "cell_type": "code",
   "execution_count": 19,
   "id": "3190ee9f",
   "metadata": {},
   "outputs": [
    {
     "data": {
      "text/plain": [
       "1    0.5095\n",
       "0    0.4905\n",
       "Name: dual_sim, dtype: float64"
      ]
     },
     "execution_count": 19,
     "metadata": {},
     "output_type": "execute_result"
    }
   ],
   "source": [
    "dataframe['dual_sim'].value_counts(normalize=True)"
   ]
  },
  {
   "cell_type": "code",
   "execution_count": 20,
   "id": "bd6b1bf4",
   "metadata": {
    "scrolled": false
   },
   "outputs": [
    {
     "data": {
      "image/png": "[encoded data removed]",
      "text/plain": [
       "<Figure size 864x432 with 1 Axes>"
      ]
     },
     "metadata": {
      "needs_background": "light"
     },
     "output_type": "display_data"
    }
   ],
   "source": [
    "plt.figure(figsize=(12,6))\n",
    "plt.title('Dual Sim')\n",
    "sns.countplot(data=dataframe, \n",
    "              x='dual_sim', \n",
    "              palette='rainbow');"
   ]
  },
  {
   "cell_type": "markdown",
   "id": "4495b7bc",
   "metadata": {},
   "source": [
    "## Insight\n",
    "Nearly 50% Mobile Phones have dual Sim."
   ]
  },
  {
   "cell_type": "code",
   "execution_count": 21,
   "id": "e0127d26",
   "metadata": {},
   "outputs": [
    {
     "data": {
      "text/plain": [
       "0     474\n",
       "1     245\n",
       "2     189\n",
       "3     170\n",
       "5     139\n",
       "4     133\n",
       "6     112\n",
       "7     100\n",
       "9      78\n",
       "8      77\n",
       "10     62\n",
       "11     51\n",
       "12     45\n",
       "13     40\n",
       "16     24\n",
       "15     23\n",
       "14     20\n",
       "18     11\n",
       "17      6\n",
       "19      1\n",
       "Name: fc, dtype: int64"
      ]
     },
     "execution_count": 21,
     "metadata": {},
     "output_type": "execute_result"
    }
   ],
   "source": [
    "dataframe['fc'].value_counts()"
   ]
  },
  {
   "cell_type": "code",
   "execution_count": 22,
   "id": "459fd44e",
   "metadata": {},
   "outputs": [
    {
     "data": {
      "image/png": "[encoded data removed]",
      "text/plain": [
       "<Figure size 864x432 with 1 Axes>"
      ]
     },
     "metadata": {
      "needs_background": "light"
     },
     "output_type": "display_data"
    }
   ],
   "source": [
    "plt.figure(figsize=(12,6))\n",
    "plt.title('Front Camera')\n",
    "sns.barplot(data=dataframe, \n",
    "             x='price_range',\n",
    "             y='fc',\n",
    "             palette='Set1');"
   ]
  },
  {
   "cell_type": "markdown",
   "id": "60fdb531",
   "metadata": {},
   "source": [
    "## Insight\n",
    "If mobile has front camera than mobile price will be increasing."
   ]
  },
  {
   "cell_type": "code",
   "execution_count": 23,
   "id": "75d05deb",
   "metadata": {},
   "outputs": [
    {
     "data": {
      "text/plain": [
       "1    1043\n",
       "0     957\n",
       "Name: four_g, dtype: int64"
      ]
     },
     "execution_count": 23,
     "metadata": {},
     "output_type": "execute_result"
    }
   ],
   "source": [
    "dataframe['four_g'].value_counts()"
   ]
  },
  {
   "cell_type": "code",
   "execution_count": 24,
   "id": "c73f10e5",
   "metadata": {},
   "outputs": [
    {
     "data": {
      "text/plain": [
       "1    0.5215\n",
       "0    0.4785\n",
       "Name: four_g, dtype: float64"
      ]
     },
     "execution_count": 24,
     "metadata": {},
     "output_type": "execute_result"
    }
   ],
   "source": [
    "dataframe['four_g'].value_counts(normalize=True)"
   ]
  },
  {
   "cell_type": "code",
   "execution_count": 25,
   "id": "f494e09f",
   "metadata": {},
   "outputs": [
    {
     "data": {
      "image/png": "[encoded data removed]",
      "text/plain": [
       "<Figure size 864x432 with 1 Axes>"
      ]
     },
     "metadata": {
      "needs_background": "light"
     },
     "output_type": "display_data"
    }
   ],
   "source": [
    "plt.figure(figsize=(12,6))\n",
    "plt.title('4G')\n",
    "sns.countplot(data=dataframe, \n",
    "              x='four_g', \n",
    "              palette='Set2',\n",
    "              saturation=0.75);"
   ]
  },
  {
   "cell_type": "markdown",
   "id": "5f59f473",
   "metadata": {},
   "source": [
    "## Insight\n",
    "More than 50% Mobile Phones have 4G Network."
   ]
  },
  {
   "cell_type": "code",
   "execution_count": 26,
   "id": "7d48b233",
   "metadata": {},
   "outputs": [
    {
     "data": {
      "text/plain": [
       "27    47\n",
       "16    45\n",
       "14    45\n",
       "57    42\n",
       "2     42\n",
       "      ..\n",
       "22    24\n",
       "38    23\n",
       "62    21\n",
       "4     20\n",
       "59    18\n",
       "Name: int_memory, Length: 63, dtype: int64"
      ]
     },
     "execution_count": 26,
     "metadata": {},
     "output_type": "execute_result"
    }
   ],
   "source": [
    "dataframe['int_memory'].value_counts()"
   ]
  },
  {
   "cell_type": "code",
   "execution_count": 27,
   "id": "1f868407",
   "metadata": {},
   "outputs": [
    {
     "data": {
      "image/png": "[encoded data removed]",
      "text/plain": [
       "<Figure size 864x432 with 1 Axes>"
      ]
     },
     "metadata": {
      "needs_background": "light"
     },
     "output_type": "display_data"
    }
   ],
   "source": [
    "plt.figure(figsize=(12,6))\n",
    "plt.title('Internal Memory VS Price')\n",
    "sns.barplot(data=dataframe, x='price_range', y='int_memory');"
   ]
  },
  {
   "cell_type": "markdown",
   "id": "f729c35c",
   "metadata": {},
   "source": [
    "## Insight\n",
    "If the internal memory increases mobile price also increases."
   ]
  },
  {
   "cell_type": "code",
   "execution_count": 28,
   "id": "8d60c0f0",
   "metadata": {},
   "outputs": [
    {
     "data": {
      "text/plain": [
       "0.1    320\n",
       "0.2    213\n",
       "0.8    208\n",
       "0.5    205\n",
       "0.7    200\n",
       "0.3    199\n",
       "0.9    195\n",
       "0.6    186\n",
       "0.4    168\n",
       "1.0    106\n",
       "Name: m_dep, dtype: int64"
      ]
     },
     "execution_count": 28,
     "metadata": {},
     "output_type": "execute_result"
    }
   ],
   "source": [
    "dataframe['m_dep'].value_counts()"
   ]
  },
  {
   "cell_type": "code",
   "execution_count": 29,
   "id": "ec6a3d89",
   "metadata": {
    "scrolled": false
   },
   "outputs": [
    {
     "data": {
      "image/png": "[encoded data removed]",
      "text/plain": [
       "<Figure size 864x432 with 1 Axes>"
      ]
     },
     "metadata": {
      "needs_background": "light"
     },
     "output_type": "display_data"
    }
   ],
   "source": [
    "plt.figure(figsize=(12,6))\n",
    "plt.title('Mobile Depth VS Price')\n",
    "sns.barplot(data=dataframe, \n",
    "             x='price_range',\n",
    "             y='m_dep',\n",
    "             palette='Set1');"
   ]
  },
  {
   "cell_type": "markdown",
   "id": "ea1192dd",
   "metadata": {},
   "source": [
    "## Insight\n",
    "As the mobile depth increases price range decreases."
   ]
  },
  {
   "cell_type": "code",
   "execution_count": 30,
   "id": "1d492381",
   "metadata": {},
   "outputs": [
    {
     "data": {
      "text/plain": [
       "182    28\n",
       "101    27\n",
       "185    27\n",
       "146    26\n",
       "199    26\n",
       "       ..\n",
       "116    10\n",
       "140     9\n",
       "120     9\n",
       "149     9\n",
       "96      9\n",
       "Name: mobile_wt, Length: 121, dtype: int64"
      ]
     },
     "execution_count": 30,
     "metadata": {},
     "output_type": "execute_result"
    }
   ],
   "source": [
    "dataframe['mobile_wt'].value_counts()"
   ]
  },
  {
   "cell_type": "code",
   "execution_count": 31,
   "id": "6785fdeb",
   "metadata": {
    "scrolled": false
   },
   "outputs": [
    {
     "data": {
      "image/png": "[encoded data removed]",
      "text/plain": [
       "<Figure size 864x432 with 1 Axes>"
      ]
     },
     "metadata": {
      "needs_background": "light"
     },
     "output_type": "display_data"
    }
   ],
   "source": [
    "plt.figure(figsize=(12,6))\n",
    "plt.title('Mobile Weight VS Price')\n",
    "sns.barplot(data=dataframe, \n",
    "             x='price_range',\n",
    "             y='mobile_wt',\n",
    "             palette='Set2');"
   ]
  },
  {
   "cell_type": "markdown",
   "id": "7f7adcd9",
   "metadata": {},
   "source": [
    "## Insight\n",
    "As mobile weight increases mobile price decreases."
   ]
  },
  {
   "cell_type": "code",
   "execution_count": 32,
   "id": "d9987e6b",
   "metadata": {},
   "outputs": [
    {
     "data": {
      "text/plain": [
       "4    274\n",
       "7    259\n",
       "8    256\n",
       "2    247\n",
       "3    246\n",
       "5    246\n",
       "1    242\n",
       "6    230\n",
       "Name: n_cores, dtype: int64"
      ]
     },
     "execution_count": 32,
     "metadata": {},
     "output_type": "execute_result"
    }
   ],
   "source": [
    "dataframe['n_cores'].value_counts()"
   ]
  },
  {
   "cell_type": "code",
   "execution_count": 33,
   "id": "4082797f",
   "metadata": {},
   "outputs": [
    {
     "data": {
      "image/png": "[encoded data removed]",
      "text/plain": [
       "<Figure size 864x432 with 1 Axes>"
      ]
     },
     "metadata": {
      "needs_background": "light"
     },
     "output_type": "display_data"
    }
   ],
   "source": [
    "plt.figure(figsize=(12,6))\n",
    "plt.title('Cores VS Price')\n",
    "sns.barplot(data=dataframe, \n",
    "             x='price_range',\n",
    "             y='n_cores',\n",
    "             palette='Set3');"
   ]
  },
  {
   "cell_type": "markdown",
   "id": "c889c1ed",
   "metadata": {},
   "source": [
    "## Insight\n",
    "AS number of cores increases mobile price decreases."
   ]
  },
  {
   "cell_type": "code",
   "execution_count": 34,
   "id": "77ade3a0",
   "metadata": {},
   "outputs": [
    {
     "data": {
      "text/plain": [
       "10    122\n",
       "7     119\n",
       "9     112\n",
       "20    110\n",
       "1     104\n",
       "14    104\n",
       "0     101\n",
       "2      99\n",
       "17     99\n",
       "6      95\n",
       "4      95\n",
       "3      93\n",
       "15     92\n",
       "12     90\n",
       "8      89\n",
       "16     88\n",
       "13     85\n",
       "19     83\n",
       "18     82\n",
       "11     79\n",
       "5      59\n",
       "Name: pc, dtype: int64"
      ]
     },
     "execution_count": 34,
     "metadata": {},
     "output_type": "execute_result"
    }
   ],
   "source": [
    "dataframe['pc'].value_counts()"
   ]
  },
  {
   "cell_type": "code",
   "execution_count": 35,
   "id": "110d21f5",
   "metadata": {},
   "outputs": [
    {
     "data": {
      "image/png": "[encoded data removed]",
      "text/plain": [
       "<Figure size 864x432 with 1 Axes>"
      ]
     },
     "metadata": {
      "needs_background": "light"
     },
     "output_type": "display_data"
    }
   ],
   "source": [
    "plt.figure(figsize=(12,6))\n",
    "plt.title('Primary Camera VS Price')\n",
    "sns.barplot(data=dataframe, \n",
    "            x='price_range', \n",
    "            y='pc', \n",
    "            palette='RdBu');"
   ]
  },
  {
   "cell_type": "markdown",
   "id": "fd888406",
   "metadata": {},
   "source": [
    "## Insight\n",
    "If mobile has primary camera than mobile price will be increasing."
   ]
  },
  {
   "cell_type": "code",
   "execution_count": 36,
   "id": "24601dcb",
   "metadata": {},
   "outputs": [
    {
     "data": {
      "text/plain": [
       "347    7\n",
       "179    6\n",
       "371    6\n",
       "275    6\n",
       "674    5\n",
       "      ..\n",
       "87     1\n",
       "648    1\n",
       "341    1\n",
       "993    1\n",
       "483    1\n",
       "Name: px_height, Length: 1137, dtype: int64"
      ]
     },
     "execution_count": 36,
     "metadata": {},
     "output_type": "execute_result"
    }
   ],
   "source": [
    "dataframe['px_height'].value_counts()"
   ]
  },
  {
   "cell_type": "code",
   "execution_count": 37,
   "id": "f51c0f20",
   "metadata": {},
   "outputs": [
    {
     "data": {
      "image/png": "[encoded data removed]",
      "text/plain": [
       "<Figure size 864x432 with 1 Axes>"
      ]
     },
     "metadata": {
      "needs_background": "light"
     },
     "output_type": "display_data"
    }
   ],
   "source": [
    "plt.figure(figsize=(12,6))\n",
    "plt.title('Pixel Height VS Price')\n",
    "sns.barplot(data=dataframe, \n",
    "            x='price_range',\n",
    "            y='px_height',\n",
    "            palette='RdPu');"
   ]
  },
  {
   "cell_type": "markdown",
   "id": "1dddc554",
   "metadata": {},
   "source": [
    "## Insight\n",
    "As pixel height increases mobile price also increases."
   ]
  },
  {
   "cell_type": "code",
   "execution_count": 38,
   "id": "359ebe8f",
   "metadata": {},
   "outputs": [
    {
     "data": {
      "text/plain": [
       "874     7\n",
       "1247    7\n",
       "1383    6\n",
       "1463    6\n",
       "1469    6\n",
       "       ..\n",
       "1125    1\n",
       "1367    1\n",
       "1569    1\n",
       "1481    1\n",
       "1632    1\n",
       "Name: px_width, Length: 1109, dtype: int64"
      ]
     },
     "execution_count": 38,
     "metadata": {},
     "output_type": "execute_result"
    }
   ],
   "source": [
    "dataframe['px_width'].value_counts()"
   ]
  },
  {
   "cell_type": "code",
   "execution_count": 39,
   "id": "d24eec93",
   "metadata": {},
   "outputs": [
    {
     "data": {
      "image/png": "[encoded data removed]",
      "text/plain": [
       "<Figure size 864x432 with 1 Axes>"
      ]
     },
     "metadata": {
      "needs_background": "light"
     },
     "output_type": "display_data"
    }
   ],
   "source": [
    "plt.figure(figsize=(12,6))\n",
    "plt.title('Pixel Width VS Price')\n",
    "sns.barplot(data=dataframe, \n",
    "             x='price_range',\n",
    "             y='px_width',\n",
    "             palette='Set1');"
   ]
  },
  {
   "cell_type": "markdown",
   "id": "91f4d38f",
   "metadata": {},
   "source": [
    "## Insight\n",
    "As pixel width increases mobile price also increases."
   ]
  },
  {
   "cell_type": "code",
   "execution_count": 40,
   "id": "aa911912",
   "metadata": {},
   "outputs": [
    {
     "data": {
      "text/plain": [
       "1464    4\n",
       "3142    4\n",
       "2610    4\n",
       "2227    4\n",
       "1229    4\n",
       "       ..\n",
       "2312    1\n",
       "2167    1\n",
       "3508    1\n",
       "297     1\n",
       "3919    1\n",
       "Name: ram, Length: 1562, dtype: int64"
      ]
     },
     "execution_count": 40,
     "metadata": {},
     "output_type": "execute_result"
    }
   ],
   "source": [
    "dataframe['ram'].value_counts()"
   ]
  },
  {
   "cell_type": "code",
   "execution_count": 41,
   "id": "be3d7d63",
   "metadata": {
    "scrolled": false
   },
   "outputs": [
    {
     "data": {
      "image/png": "[encoded data removed]",
      "text/plain": [
       "<Figure size 864x432 with 1 Axes>"
      ]
     },
     "metadata": {
      "needs_background": "light"
     },
     "output_type": "display_data"
    }
   ],
   "source": [
    "plt.figure(figsize=(12,6))\n",
    "plt.title('RAM VS Price')\n",
    "sns.barplot(data=dataframe, \n",
    "             x='price_range',\n",
    "             y='ram',\n",
    "             palette='pastel');"
   ]
  },
  {
   "cell_type": "markdown",
   "id": "55588504",
   "metadata": {},
   "source": [
    "## Insight\n",
    "As Ram increases mobile price increases."
   ]
  },
  {
   "cell_type": "code",
   "execution_count": 42,
   "id": "dd647eeb",
   "metadata": {},
   "outputs": [
    {
     "data": {
      "text/plain": [
       "17    193\n",
       "12    157\n",
       "7     151\n",
       "16    143\n",
       "14    143\n",
       "15    135\n",
       "13    131\n",
       "11    126\n",
       "10    125\n",
       "9     124\n",
       "19    124\n",
       "18    120\n",
       "8     117\n",
       "6     114\n",
       "5      97\n",
       "Name: sc_h, dtype: int64"
      ]
     },
     "execution_count": 42,
     "metadata": {},
     "output_type": "execute_result"
    }
   ],
   "source": [
    "dataframe['sc_h'].value_counts()"
   ]
  },
  {
   "cell_type": "code",
   "execution_count": 43,
   "id": "19980361",
   "metadata": {},
   "outputs": [
    {
     "data": {
      "image/png": "[encoded data removed]",
      "text/plain": [
       "<Figure size 864x432 with 1 Axes>"
      ]
     },
     "metadata": {
      "needs_background": "light"
     },
     "output_type": "display_data"
    }
   ],
   "source": [
    "plt.figure(figsize=(12,6))\n",
    "plt.title('Screen Resolution Height VS Price')\n",
    "sns.barplot(data=dataframe, \n",
    "            x='price_range', \n",
    "            y='sc_h');"
   ]
  },
  {
   "cell_type": "markdown",
   "id": "e5a19dcf",
   "metadata": {},
   "source": [
    "## Insight\n",
    "As screen resolution height increases mobile price also increases."
   ]
  },
  {
   "cell_type": "code",
   "execution_count": 44,
   "id": "f863952e",
   "metadata": {},
   "outputs": [
    {
     "data": {
      "text/plain": [
       "1     210\n",
       "3     199\n",
       "4     182\n",
       "0     180\n",
       "5     161\n",
       "2     156\n",
       "7     132\n",
       "6     130\n",
       "8     125\n",
       "10    107\n",
       "9      97\n",
       "11     84\n",
       "12     68\n",
       "13     49\n",
       "14     33\n",
       "15     31\n",
       "16     29\n",
       "17     19\n",
       "18      8\n",
       "Name: sc_w, dtype: int64"
      ]
     },
     "execution_count": 44,
     "metadata": {},
     "output_type": "execute_result"
    }
   ],
   "source": [
    "dataframe['sc_w'].value_counts()"
   ]
  },
  {
   "cell_type": "code",
   "execution_count": 45,
   "id": "948c1b81",
   "metadata": {
    "scrolled": false
   },
   "outputs": [
    {
     "data": {
      "image/png": "[encoded data removed]",
      "text/plain": [
       "<Figure size 864x432 with 1 Axes>"
      ]
     },
     "metadata": {
      "needs_background": "light"
     },
     "output_type": "display_data"
    }
   ],
   "source": [
    "plt.figure(figsize=(12,6))\n",
    "plt.title('Screen Resolution Width VS Price')\n",
    "sns.barplot(data=dataframe, \n",
    "            x='price_range',\n",
    "            y='sc_w');"
   ]
  },
  {
   "cell_type": "markdown",
   "id": "8da41e88",
   "metadata": {},
   "source": [
    "## Insight\n",
    "As screen resolution width increases mobile price also increases."
   ]
  },
  {
   "cell_type": "code",
   "execution_count": 46,
   "id": "dd0f7c71",
   "metadata": {},
   "outputs": [
    {
     "data": {
      "text/plain": [
       "7     124\n",
       "4     123\n",
       "16    116\n",
       "15    115\n",
       "19    113\n",
       "6     111\n",
       "10    105\n",
       "8     104\n",
       "11    103\n",
       "20    102\n",
       "14    101\n",
       "13    100\n",
       "18    100\n",
       "9     100\n",
       "2      99\n",
       "12     99\n",
       "17     98\n",
       "3      94\n",
       "5      93\n",
       "Name: talk_time, dtype: int64"
      ]
     },
     "execution_count": 46,
     "metadata": {},
     "output_type": "execute_result"
    }
   ],
   "source": [
    "dataframe['talk_time'].value_counts()"
   ]
  },
  {
   "cell_type": "code",
   "execution_count": 47,
   "id": "e0b679e5",
   "metadata": {
    "scrolled": false
   },
   "outputs": [
    {
     "data": {
      "image/png": "[encoded data removed]",
      "text/plain": [
       "<Figure size 864x432 with 1 Axes>"
      ]
     },
     "metadata": {
      "needs_background": "light"
     },
     "output_type": "display_data"
    }
   ],
   "source": [
    "plt.figure(figsize=(12,6))\n",
    "plt.title('Talk Time')\n",
    "sns.barplot(data=dataframe, \n",
    "            x='price_range',\n",
    "            y='talk_time',\n",
    "            palette='rainbow');"
   ]
  },
  {
   "cell_type": "code",
   "execution_count": 48,
   "id": "2b92bc85",
   "metadata": {},
   "outputs": [
    {
     "data": {
      "text/plain": [
       "1    1523\n",
       "0     477\n",
       "Name: three_g, dtype: int64"
      ]
     },
     "execution_count": 48,
     "metadata": {},
     "output_type": "execute_result"
    }
   ],
   "source": [
    "dataframe['three_g'].value_counts()"
   ]
  },
  {
   "cell_type": "code",
   "execution_count": 49,
   "id": "da306340",
   "metadata": {},
   "outputs": [
    {
     "data": {
      "text/plain": [
       "1    0.7615\n",
       "0    0.2385\n",
       "Name: three_g, dtype: float64"
      ]
     },
     "execution_count": 49,
     "metadata": {},
     "output_type": "execute_result"
    }
   ],
   "source": [
    "dataframe['three_g'].value_counts(normalize=True)"
   ]
  },
  {
   "cell_type": "code",
   "execution_count": 50,
   "id": "50889560",
   "metadata": {},
   "outputs": [
    {
     "data": {
      "image/png": "[encoded data removed]",
      "text/plain": [
       "<Figure size 864x432 with 1 Axes>"
      ]
     },
     "metadata": {
      "needs_background": "light"
     },
     "output_type": "display_data"
    }
   ],
   "source": [
    "plt.figure(figsize=(12,6))\n",
    "plt.title('3G')\n",
    "sns.countplot(data=dataframe, x='three_g');"
   ]
  },
  {
   "cell_type": "markdown",
   "id": "775e656e",
   "metadata": {},
   "source": [
    "## Insight\n",
    "More than 70% Mobile Phones have 3G Network."
   ]
  },
  {
   "cell_type": "code",
   "execution_count": 51,
   "id": "b4b41bb3",
   "metadata": {
    "scrolled": true
   },
   "outputs": [
    {
     "data": {
      "text/plain": [
       "1    1006\n",
       "0     994\n",
       "Name: touch_screen, dtype: int64"
      ]
     },
     "execution_count": 51,
     "metadata": {},
     "output_type": "execute_result"
    }
   ],
   "source": [
    "dataframe['touch_screen'].value_counts()"
   ]
  },
  {
   "cell_type": "code",
   "execution_count": 52,
   "id": "1392c4fc",
   "metadata": {},
   "outputs": [
    {
     "data": {
      "text/plain": [
       "1    0.503\n",
       "0    0.497\n",
       "Name: touch_screen, dtype: float64"
      ]
     },
     "execution_count": 52,
     "metadata": {},
     "output_type": "execute_result"
    }
   ],
   "source": [
    "dataframe['touch_screen'].value_counts(normalize=True)"
   ]
  },
  {
   "cell_type": "code",
   "execution_count": 53,
   "id": "1d19c19f",
   "metadata": {},
   "outputs": [
    {
     "data": {
      "image/png": "[encoded data removed]",
      "text/plain": [
       "<Figure size 864x432 with 1 Axes>"
      ]
     },
     "metadata": {
      "needs_background": "light"
     },
     "output_type": "display_data"
    }
   ],
   "source": [
    "plt.figure(figsize=(12,6))\n",
    "plt.title('Touch Screen')\n",
    "sns.countplot(data=dataframe, x='touch_screen', palette='rainbow');"
   ]
  },
  {
   "cell_type": "markdown",
   "id": "ba9a4972",
   "metadata": {},
   "source": [
    "## Insight\n",
    "Nearly 50% Mobile Phones have TouchScreen."
   ]
  },
  {
   "cell_type": "code",
   "execution_count": 54,
   "id": "6199c932",
   "metadata": {
    "scrolled": true
   },
   "outputs": [
    {
     "data": {
      "text/plain": [
       "1    1014\n",
       "0     986\n",
       "Name: wifi, dtype: int64"
      ]
     },
     "execution_count": 54,
     "metadata": {},
     "output_type": "execute_result"
    }
   ],
   "source": [
    "dataframe['wifi'].value_counts()"
   ]
  },
  {
   "cell_type": "code",
   "execution_count": 55,
   "id": "30c3baa4",
   "metadata": {},
   "outputs": [
    {
     "data": {
      "text/plain": [
       "1    0.507\n",
       "0    0.493\n",
       "Name: wifi, dtype: float64"
      ]
     },
     "execution_count": 55,
     "metadata": {},
     "output_type": "execute_result"
    }
   ],
   "source": [
    "dataframe['wifi'].value_counts(normalize=True)"
   ]
  },
  {
   "cell_type": "code",
   "execution_count": 56,
   "id": "1215e262",
   "metadata": {},
   "outputs": [
    {
     "data": {
      "image/png": "[encoded data removed]",
      "text/plain": [
       "<Figure size 864x432 with 1 Axes>"
      ]
     },
     "metadata": {
      "needs_background": "light"
     },
     "output_type": "display_data"
    }
   ],
   "source": [
    "plt.figure(figsize=(12,6))\n",
    "plt.title('WiFi')\n",
    "sns.countplot(data=dataframe, x='wifi', palette='RdPu');"
   ]
  },
  {
   "cell_type": "markdown",
   "id": "0d1d84b2",
   "metadata": {},
   "source": [
    "## Insight\n",
    "Nearly 50%  Mobile Phones have WiFi."
   ]
  },
  {
   "cell_type": "markdown",
   "id": "4c5725e6",
   "metadata": {},
   "source": [
    "## Seprating Dependent and Independent Features"
   ]
  },
  {
   "cell_type": "code",
   "execution_count": 57,
   "id": "1e5ef06c",
   "metadata": {},
   "outputs": [],
   "source": [
    "X = dataframe.drop('price_range', axis=1)\n",
    "Y = dataframe['price_range']"
   ]
  },
  {
   "cell_type": "code",
   "execution_count": 58,
   "id": "aa0709e9",
   "metadata": {},
   "outputs": [
    {
     "name": "stdout",
     "output_type": "stream",
     "text": [
      "      battery_power  blue  clock_speed  dual_sim  fc  four_g  int_memory  \\\n",
      "0               842     0          2.2         0   1       0           7   \n",
      "1              1021     1          0.5         1   0       1          53   \n",
      "2               563     1          0.5         1   2       1          41   \n",
      "3               615     1          2.5         0   0       0          10   \n",
      "4              1821     1          1.2         0  13       1          44   \n",
      "...             ...   ...          ...       ...  ..     ...         ...   \n",
      "1995            794     1          0.5         1   0       1           2   \n",
      "1996           1965     1          2.6         1   0       0          39   \n",
      "1997           1911     0          0.9         1   1       1          36   \n",
      "1998           1512     0          0.9         0   4       1          46   \n",
      "1999            510     1          2.0         1   5       1          45   \n",
      "\n",
      "      m_dep  mobile_wt  n_cores  pc  px_height  px_width   ram  sc_h  sc_w  \\\n",
      "0       0.6        188        2   2         20       756  2549     9     7   \n",
      "1       0.7        136        3   6        905      1988  2631    17     3   \n",
      "2       0.9        145        5   6       1263      1716  2603    11     2   \n",
      "3       0.8        131        6   9       1216      1786  2769    16     8   \n",
      "4       0.6        141        2  14       1208      1212  1411     8     2   \n",
      "...     ...        ...      ...  ..        ...       ...   ...   ...   ...   \n",
      "1995    0.8        106        6  14       1222      1890   668    13     4   \n",
      "1996    0.2        187        4   3        915      1965  2032    11    10   \n",
      "1997    0.7        108        8   3        868      1632  3057     9     1   \n",
      "1998    0.1        145        5   5        336       670   869    18    10   \n",
      "1999    0.9        168        6  16        483       754  3919    19     4   \n",
      "\n",
      "      talk_time  three_g  touch_screen  wifi  \n",
      "0            19        0             0     1  \n",
      "1             7        1             1     0  \n",
      "2             9        1             1     0  \n",
      "3            11        1             0     0  \n",
      "4            15        1             1     0  \n",
      "...         ...      ...           ...   ...  \n",
      "1995         19        1             1     0  \n",
      "1996         16        1             1     1  \n",
      "1997          5        1             1     0  \n",
      "1998         19        1             1     1  \n",
      "1999          2        1             1     1  \n",
      "\n",
      "[2000 rows x 20 columns]\n"
     ]
    }
   ],
   "source": [
    "print(X)"
   ]
  },
  {
   "cell_type": "code",
   "execution_count": 59,
   "id": "50152d30",
   "metadata": {},
   "outputs": [
    {
     "name": "stdout",
     "output_type": "stream",
     "text": [
      "0       1\n",
      "1       2\n",
      "2       2\n",
      "3       2\n",
      "4       1\n",
      "       ..\n",
      "1995    0\n",
      "1996    2\n",
      "1997    3\n",
      "1998    0\n",
      "1999    3\n",
      "Name: price_range, Length: 2000, dtype: int64\n"
     ]
    }
   ],
   "source": [
    "print(Y)"
   ]
  },
  {
   "cell_type": "markdown",
   "id": "1b226be9",
   "metadata": {},
   "source": [
    "## Train Test Split"
   ]
  },
  {
   "cell_type": "code",
   "execution_count": 72,
   "id": "6648fc51",
   "metadata": {},
   "outputs": [],
   "source": [
    "X_train, X_test, Y_train, Y_test = train_test_split(X, Y, test_size=0.2, random_state=2)"
   ]
  },
  {
   "cell_type": "code",
   "execution_count": 73,
   "id": "70dcc94f",
   "metadata": {},
   "outputs": [
    {
     "name": "stdout",
     "output_type": "stream",
     "text": [
      "X : (2000, 20)\n",
      "X_train : (1600, 20)\n",
      "X_test : (400, 20)\n"
     ]
    }
   ],
   "source": [
    "print('X :',X.shape)\n",
    "print('X_train :',X_train.shape)\n",
    "print('X_test :',X_test.shape)"
   ]
  },
  {
   "cell_type": "markdown",
   "id": "4b4ff9e2",
   "metadata": {},
   "source": [
    "## Model Building"
   ]
  },
  {
   "cell_type": "code",
   "execution_count": 74,
   "id": "ffd199bb",
   "metadata": {},
   "outputs": [],
   "source": [
    "model = RandomForestClassifier()"
   ]
  },
  {
   "cell_type": "code",
   "execution_count": 75,
   "id": "2e49e709",
   "metadata": {},
   "outputs": [
    {
     "data": {
      "text/plain": [
       "RandomForestClassifier()"
      ]
     },
     "execution_count": 75,
     "metadata": {},
     "output_type": "execute_result"
    }
   ],
   "source": [
    "model.fit(X_train, Y_train)"
   ]
  },
  {
   "cell_type": "code",
   "execution_count": 76,
   "id": "3666062f",
   "metadata": {},
   "outputs": [
    {
     "name": "stdout",
     "output_type": "stream",
     "text": [
      "X_train_prediction : [1 3 2 ... 0 3 2]\n"
     ]
    }
   ],
   "source": [
    "X_train_prediction = model.predict(X_train)\n",
    "print('X_train_prediction :', X_train_prediction)"
   ]
  },
  {
   "cell_type": "code",
   "execution_count": 77,
   "id": "1463b0e8",
   "metadata": {},
   "outputs": [
    {
     "name": "stdout",
     "output_type": "stream",
     "text": [
      "Train Data Accuracy : 1.0\n"
     ]
    }
   ],
   "source": [
    "train_data_accuracy = accuracy_score(Y_train, X_train_prediction)\n",
    "print('Train Data Accuracy :', train_data_accuracy)"
   ]
  },
  {
   "cell_type": "code",
   "execution_count": 78,
   "id": "d2b0e1ba",
   "metadata": {},
   "outputs": [
    {
     "name": "stdout",
     "output_type": "stream",
     "text": [
      "X_test_prediction : [0 2 0 2 3 1 3 3 1 2 1 0 2 3 0 3 2 1 1 3 1 2 0 1 3 2 2 0 0 2 0 3 0 1 1 0 3\n",
      " 0 2 2 1 1 3 3 2 0 3 2 1 2 1 3 3 2 3 0 1 0 1 1 1 2 1 2 0 2 0 0 0 3 1 0 0 2\n",
      " 0 2 2 3 2 3 2 2 2 0 0 3 2 2 0 1 1 2 0 0 1 2 0 3 2 0 1 3 1 1 2 3 3 3 2 1 3\n",
      " 1 1 2 3 0 0 2 1 2 0 3 3 0 3 0 3 1 0 0 1 3 2 1 0 3 3 0 2 0 1 3 3 0 3 2 1 3\n",
      " 0 1 2 2 1 3 0 3 0 2 1 1 1 1 3 0 0 3 2 3 1 0 2 1 0 3 0 1 1 1 3 3 2 2 1 1 1\n",
      " 0 0 1 3 1 1 0 1 1 3 2 0 1 3 1 0 2 3 0 3 2 2 2 2 3 3 2 1 0 3 1 0 1 3 0 0 3\n",
      " 0 1 1 0 1 3 1 2 3 3 3 0 3 0 1 2 0 3 2 2 2 0 2 3 0 3 0 1 1 0 1 3 2 1 1 3 3\n",
      " 0 0 0 3 3 0 3 1 0 1 0 2 0 2 0 0 0 2 0 2 0 3 3 0 2 2 1 1 2 1 3 0 0 3 1 3 1\n",
      " 2 0 1 0 3 0 2 3 3 3 2 3 0 0 2 2 1 0 1 3 2 2 0 0 2 0 2 2 2 2 3 3 1 3 1 3 2\n",
      " 1 3 3 0 1 2 2 2 2 3 0 0 1 0 2 2 3 0 1 3 1 2 2 2 1 0 1 2 3 3 0 1 2 0 1 3 2\n",
      " 1 3 1 0 1 3 0 1 1 1 2 1 0 1 2 2 1 0 3 2 1 1 0 0 2 0 3 1 3 3]\n"
     ]
    }
   ],
   "source": [
    "X_test_prediction = model.predict(X_test)\n",
    "print('X_test_prediction :', X_test_prediction)"
   ]
  },
  {
   "cell_type": "code",
   "execution_count": 79,
   "id": "89c869e1",
   "metadata": {},
   "outputs": [
    {
     "name": "stdout",
     "output_type": "stream",
     "text": [
      "Test Data Accuracy : 0.9025\n"
     ]
    }
   ],
   "source": [
    "test_data_accuracy = accuracy_score(Y_test, X_test_prediction)\n",
    "print('Test Data Accuracy :', test_data_accuracy)"
   ]
  },
  {
   "cell_type": "markdown",
   "id": "cbbaba82",
   "metadata": {},
   "source": [
    "## Loss"
   ]
  },
  {
   "cell_type": "code",
   "execution_count": 81,
   "id": "73b07610",
   "metadata": {
    "scrolled": true
   },
   "outputs": [
    {
     "name": "stdout",
     "output_type": "stream",
     "text": [
      "Mean Absolute Error : 0.0975\n",
      "Root Mean Squared Error : 0.3122498999199199\n"
     ]
    }
   ],
   "source": [
    "mae = mean_absolute_error(Y_test, X_test_prediction)\n",
    "print('Mean Absolute Error :', mae)\n",
    "\n",
    "rmse = np.sqrt(mean_squared_error(Y_test, X_test_prediction))\n",
    "print('Root Mean Squared Error :', rmse)"
   ]
  },
  {
   "cell_type": "markdown",
   "id": "f90514e2",
   "metadata": {},
   "source": [
    "## Confusion Matrix"
   ]
  },
  {
   "cell_type": "code",
   "execution_count": 82,
   "id": "e70998a6",
   "metadata": {},
   "outputs": [
    {
     "data": {
      "image/png": "[encoded data removed]",
      "text/plain": [
       "<Figure size 432x288 with 2 Axes>"
      ]
     },
     "metadata": {
      "needs_background": "light"
     },
     "output_type": "display_data"
    }
   ],
   "source": [
    "cnf_matrix = confusion_matrix(Y_test, X_test_prediction)\n",
    "plt.title(\"Confusion Matrix\")\n",
    "sns.heatmap(cnf_matrix, annot=True, fmt='g', cmap='Reds');"
   ]
  },
  {
   "cell_type": "markdown",
   "id": "2d2deacf",
   "metadata": {},
   "source": [
    "## Classification Report"
   ]
  },
  {
   "cell_type": "code",
   "execution_count": 83,
   "id": "f0c2c1de",
   "metadata": {},
   "outputs": [
    {
     "name": "stdout",
     "output_type": "stream",
     "text": [
      "              precision    recall  f1-score   support\n",
      "\n",
      "           0       0.90      0.96      0.93        98\n",
      "           1       0.90      0.83      0.87       109\n",
      "           2       0.86      0.88      0.87        94\n",
      "           3       0.95      0.94      0.94        99\n",
      "\n",
      "    accuracy                           0.90       400\n",
      "   macro avg       0.90      0.90      0.90       400\n",
      "weighted avg       0.90      0.90      0.90       400\n",
      "\n"
     ]
    }
   ],
   "source": [
    "clf_report = classification_report(Y_test, X_test_prediction)\n",
    "print(clf_report)"
   ]
  },
  {
   "cell_type": "code",
   "execution_count": null,
   "id": "6a5c8529",
   "metadata": {},
   "outputs": [],
   "source": []
  }
 ],
 "metadata": {
  "kernelspec": {
   "display_name": "Python 3 (ipykernel)",
   "language": "python",
   "name": "python3"
  },
  "language_info": {
   "codemirror_mode": {
    "name": "ipython",
    "version": 3
   },
   "file_extension": ".py",
   "mimetype": "text/x-python",
   "name": "python",
   "nbconvert_exporter": "python",
   "pygments_lexer": "ipython3",
   "version": "3.9.10"
  }
 },
 "nbformat": 4,
 "nbformat_minor": 5
}
